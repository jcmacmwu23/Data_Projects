{
 "cells": [
  {
   "cell_type": "code",
   "execution_count": 192,
   "metadata": {
    "scrolled": true
   },
   "outputs": [
    {
     "data": {
      "text/html": [
       "<div>\n",
       "<style scoped>\n",
       "    .dataframe tbody tr th:only-of-type {\n",
       "        vertical-align: middle;\n",
       "    }\n",
       "\n",
       "    .dataframe tbody tr th {\n",
       "        vertical-align: top;\n",
       "    }\n",
       "\n",
       "    .dataframe thead th {\n",
       "        text-align: right;\n",
       "    }\n",
       "</style>\n",
       "<table border=\"1\" class=\"dataframe\">\n",
       "  <thead>\n",
       "    <tr style=\"text-align: right;\">\n",
       "      <th></th>\n",
       "      <th>ID</th>\n",
       "      <th>LIMIT_BAL</th>\n",
       "      <th>SEX</th>\n",
       "      <th>EDUCATION</th>\n",
       "      <th>MARRIAGE</th>\n",
       "      <th>AGE</th>\n",
       "      <th>PAY_1</th>\n",
       "      <th>PAY_2</th>\n",
       "      <th>PAY_3</th>\n",
       "      <th>PAY_4</th>\n",
       "      <th>...</th>\n",
       "      <th>BILL_AMT5</th>\n",
       "      <th>BILL_AMT6</th>\n",
       "      <th>PAY_AMT1</th>\n",
       "      <th>PAY_AMT2</th>\n",
       "      <th>PAY_AMT3</th>\n",
       "      <th>PAY_AMT4</th>\n",
       "      <th>PAY_AMT5</th>\n",
       "      <th>PAY_AMT6</th>\n",
       "      <th>default payment next month</th>\n",
       "      <th>CATEGORY</th>\n",
       "    </tr>\n",
       "  </thead>\n",
       "  <tbody>\n",
       "    <tr>\n",
       "      <td>0</td>\n",
       "      <td>1</td>\n",
       "      <td>20000</td>\n",
       "      <td>female</td>\n",
       "      <td>university</td>\n",
       "      <td>married</td>\n",
       "      <td>24</td>\n",
       "      <td>2</td>\n",
       "      <td>2</td>\n",
       "      <td>-1</td>\n",
       "      <td>-1</td>\n",
       "      <td>...</td>\n",
       "      <td>0</td>\n",
       "      <td>0</td>\n",
       "      <td>0</td>\n",
       "      <td>689</td>\n",
       "      <td>0</td>\n",
       "      <td>0</td>\n",
       "      <td>0</td>\n",
       "      <td>0</td>\n",
       "      <td>default</td>\n",
       "      <td>21-30</td>\n",
       "    </tr>\n",
       "    <tr>\n",
       "      <td>1</td>\n",
       "      <td>2</td>\n",
       "      <td>120000</td>\n",
       "      <td>female</td>\n",
       "      <td>university</td>\n",
       "      <td>single</td>\n",
       "      <td>26</td>\n",
       "      <td>-1</td>\n",
       "      <td>2</td>\n",
       "      <td>0</td>\n",
       "      <td>0</td>\n",
       "      <td>...</td>\n",
       "      <td>3455</td>\n",
       "      <td>3261</td>\n",
       "      <td>0</td>\n",
       "      <td>1000</td>\n",
       "      <td>1000</td>\n",
       "      <td>1000</td>\n",
       "      <td>0</td>\n",
       "      <td>2000</td>\n",
       "      <td>default</td>\n",
       "      <td>21-30</td>\n",
       "    </tr>\n",
       "    <tr>\n",
       "      <td>2</td>\n",
       "      <td>3</td>\n",
       "      <td>90000</td>\n",
       "      <td>female</td>\n",
       "      <td>university</td>\n",
       "      <td>single</td>\n",
       "      <td>34</td>\n",
       "      <td>0</td>\n",
       "      <td>0</td>\n",
       "      <td>0</td>\n",
       "      <td>0</td>\n",
       "      <td>...</td>\n",
       "      <td>14948</td>\n",
       "      <td>15549</td>\n",
       "      <td>1518</td>\n",
       "      <td>1500</td>\n",
       "      <td>1000</td>\n",
       "      <td>1000</td>\n",
       "      <td>1000</td>\n",
       "      <td>5000</td>\n",
       "      <td>no default</td>\n",
       "      <td>31-40</td>\n",
       "    </tr>\n",
       "    <tr>\n",
       "      <td>3</td>\n",
       "      <td>4</td>\n",
       "      <td>50000</td>\n",
       "      <td>female</td>\n",
       "      <td>university</td>\n",
       "      <td>married</td>\n",
       "      <td>37</td>\n",
       "      <td>0</td>\n",
       "      <td>0</td>\n",
       "      <td>0</td>\n",
       "      <td>0</td>\n",
       "      <td>...</td>\n",
       "      <td>28959</td>\n",
       "      <td>29547</td>\n",
       "      <td>2000</td>\n",
       "      <td>2019</td>\n",
       "      <td>1200</td>\n",
       "      <td>1100</td>\n",
       "      <td>1069</td>\n",
       "      <td>1000</td>\n",
       "      <td>no default</td>\n",
       "      <td>31-40</td>\n",
       "    </tr>\n",
       "    <tr>\n",
       "      <td>4</td>\n",
       "      <td>5</td>\n",
       "      <td>50000</td>\n",
       "      <td>male</td>\n",
       "      <td>university</td>\n",
       "      <td>married</td>\n",
       "      <td>57</td>\n",
       "      <td>-1</td>\n",
       "      <td>0</td>\n",
       "      <td>-1</td>\n",
       "      <td>0</td>\n",
       "      <td>...</td>\n",
       "      <td>19146</td>\n",
       "      <td>19131</td>\n",
       "      <td>2000</td>\n",
       "      <td>36681</td>\n",
       "      <td>10000</td>\n",
       "      <td>9000</td>\n",
       "      <td>689</td>\n",
       "      <td>679</td>\n",
       "      <td>no default</td>\n",
       "      <td>51-60</td>\n",
       "    </tr>\n",
       "    <tr>\n",
       "      <td>...</td>\n",
       "      <td>...</td>\n",
       "      <td>...</td>\n",
       "      <td>...</td>\n",
       "      <td>...</td>\n",
       "      <td>...</td>\n",
       "      <td>...</td>\n",
       "      <td>...</td>\n",
       "      <td>...</td>\n",
       "      <td>...</td>\n",
       "      <td>...</td>\n",
       "      <td>...</td>\n",
       "      <td>...</td>\n",
       "      <td>...</td>\n",
       "      <td>...</td>\n",
       "      <td>...</td>\n",
       "      <td>...</td>\n",
       "      <td>...</td>\n",
       "      <td>...</td>\n",
       "      <td>...</td>\n",
       "      <td>...</td>\n",
       "      <td>...</td>\n",
       "    </tr>\n",
       "    <tr>\n",
       "      <td>29995</td>\n",
       "      <td>29996</td>\n",
       "      <td>220000</td>\n",
       "      <td>male</td>\n",
       "      <td>high school</td>\n",
       "      <td>married</td>\n",
       "      <td>39</td>\n",
       "      <td>0</td>\n",
       "      <td>0</td>\n",
       "      <td>0</td>\n",
       "      <td>0</td>\n",
       "      <td>...</td>\n",
       "      <td>31237</td>\n",
       "      <td>15980</td>\n",
       "      <td>8500</td>\n",
       "      <td>20000</td>\n",
       "      <td>5003</td>\n",
       "      <td>3047</td>\n",
       "      <td>5000</td>\n",
       "      <td>1000</td>\n",
       "      <td>no default</td>\n",
       "      <td>31-40</td>\n",
       "    </tr>\n",
       "    <tr>\n",
       "      <td>29996</td>\n",
       "      <td>29997</td>\n",
       "      <td>150000</td>\n",
       "      <td>male</td>\n",
       "      <td>high school</td>\n",
       "      <td>single</td>\n",
       "      <td>43</td>\n",
       "      <td>-1</td>\n",
       "      <td>-1</td>\n",
       "      <td>-1</td>\n",
       "      <td>-1</td>\n",
       "      <td>...</td>\n",
       "      <td>5190</td>\n",
       "      <td>0</td>\n",
       "      <td>1837</td>\n",
       "      <td>3526</td>\n",
       "      <td>8998</td>\n",
       "      <td>129</td>\n",
       "      <td>0</td>\n",
       "      <td>0</td>\n",
       "      <td>no default</td>\n",
       "      <td>41-50</td>\n",
       "    </tr>\n",
       "    <tr>\n",
       "      <td>29997</td>\n",
       "      <td>29998</td>\n",
       "      <td>30000</td>\n",
       "      <td>male</td>\n",
       "      <td>university</td>\n",
       "      <td>single</td>\n",
       "      <td>37</td>\n",
       "      <td>4</td>\n",
       "      <td>3</td>\n",
       "      <td>2</td>\n",
       "      <td>-1</td>\n",
       "      <td>...</td>\n",
       "      <td>20582</td>\n",
       "      <td>19357</td>\n",
       "      <td>0</td>\n",
       "      <td>0</td>\n",
       "      <td>22000</td>\n",
       "      <td>4200</td>\n",
       "      <td>2000</td>\n",
       "      <td>3100</td>\n",
       "      <td>default</td>\n",
       "      <td>31-40</td>\n",
       "    </tr>\n",
       "    <tr>\n",
       "      <td>29998</td>\n",
       "      <td>29999</td>\n",
       "      <td>80000</td>\n",
       "      <td>male</td>\n",
       "      <td>high school</td>\n",
       "      <td>married</td>\n",
       "      <td>41</td>\n",
       "      <td>1</td>\n",
       "      <td>-1</td>\n",
       "      <td>0</td>\n",
       "      <td>0</td>\n",
       "      <td>...</td>\n",
       "      <td>11855</td>\n",
       "      <td>48944</td>\n",
       "      <td>85900</td>\n",
       "      <td>3409</td>\n",
       "      <td>1178</td>\n",
       "      <td>1926</td>\n",
       "      <td>52964</td>\n",
       "      <td>1804</td>\n",
       "      <td>default</td>\n",
       "      <td>41-50</td>\n",
       "    </tr>\n",
       "    <tr>\n",
       "      <td>29999</td>\n",
       "      <td>30000</td>\n",
       "      <td>50000</td>\n",
       "      <td>male</td>\n",
       "      <td>university</td>\n",
       "      <td>married</td>\n",
       "      <td>46</td>\n",
       "      <td>0</td>\n",
       "      <td>0</td>\n",
       "      <td>0</td>\n",
       "      <td>0</td>\n",
       "      <td>...</td>\n",
       "      <td>32428</td>\n",
       "      <td>15313</td>\n",
       "      <td>2078</td>\n",
       "      <td>1800</td>\n",
       "      <td>1430</td>\n",
       "      <td>1000</td>\n",
       "      <td>1000</td>\n",
       "      <td>1000</td>\n",
       "      <td>default</td>\n",
       "      <td>41-50</td>\n",
       "    </tr>\n",
       "  </tbody>\n",
       "</table>\n",
       "<p>30000 rows × 26 columns</p>\n",
       "</div>"
      ],
      "text/plain": [
       "          ID  LIMIT_BAL     SEX    EDUCATION MARRIAGE  AGE  PAY_1  PAY_2  \\\n",
       "0          1      20000  female   university  married   24      2      2   \n",
       "1          2     120000  female   university   single   26     -1      2   \n",
       "2          3      90000  female   university   single   34      0      0   \n",
       "3          4      50000  female   university  married   37      0      0   \n",
       "4          5      50000    male   university  married   57     -1      0   \n",
       "...      ...        ...     ...          ...      ...  ...    ...    ...   \n",
       "29995  29996     220000    male  high school  married   39      0      0   \n",
       "29996  29997     150000    male  high school   single   43     -1     -1   \n",
       "29997  29998      30000    male   university   single   37      4      3   \n",
       "29998  29999      80000    male  high school  married   41      1     -1   \n",
       "29999  30000      50000    male   university  married   46      0      0   \n",
       "\n",
       "       PAY_3  PAY_4  ...  BILL_AMT5  BILL_AMT6  PAY_AMT1  PAY_AMT2  PAY_AMT3  \\\n",
       "0         -1     -1  ...          0          0         0       689         0   \n",
       "1          0      0  ...       3455       3261         0      1000      1000   \n",
       "2          0      0  ...      14948      15549      1518      1500      1000   \n",
       "3          0      0  ...      28959      29547      2000      2019      1200   \n",
       "4         -1      0  ...      19146      19131      2000     36681     10000   \n",
       "...      ...    ...  ...        ...        ...       ...       ...       ...   \n",
       "29995      0      0  ...      31237      15980      8500     20000      5003   \n",
       "29996     -1     -1  ...       5190          0      1837      3526      8998   \n",
       "29997      2     -1  ...      20582      19357         0         0     22000   \n",
       "29998      0      0  ...      11855      48944     85900      3409      1178   \n",
       "29999      0      0  ...      32428      15313      2078      1800      1430   \n",
       "\n",
       "       PAY_AMT4  PAY_AMT5  PAY_AMT6  default payment next month  CATEGORY  \n",
       "0             0         0         0                     default     21-30  \n",
       "1          1000         0      2000                     default     21-30  \n",
       "2          1000      1000      5000                  no default     31-40  \n",
       "3          1100      1069      1000                  no default     31-40  \n",
       "4          9000       689       679                  no default     51-60  \n",
       "...         ...       ...       ...                         ...       ...  \n",
       "29995      3047      5000      1000                  no default     31-40  \n",
       "29996       129         0         0                  no default     41-50  \n",
       "29997      4200      2000      3100                     default     31-40  \n",
       "29998      1926     52964      1804                     default     41-50  \n",
       "29999      1000      1000      1000                     default     41-50  \n",
       "\n",
       "[30000 rows x 26 columns]"
      ]
     },
     "execution_count": 192,
     "metadata": {},
     "output_type": "execute_result"
    }
   ],
   "source": [
    "import pandas as pd\n",
    "import numpy as np\n",
    "from sklearn import preprocessing\n",
    "import matplotlib.pyplot as plt \n",
    "plt.rc(\"font\", size=14)\n",
    "from sklearn.linear_model import LogisticRegression\n",
    "from sklearn.model_selection import train_test_split\n",
    "import seaborn as sns\n",
    "\n",
    "df0 = pd.read_csv('TW_CC_formatted.csv') #pivoted format\n",
    "\n",
    "df0"
   ]
  },
  {
   "cell_type": "code",
   "execution_count": 193,
   "metadata": {},
   "outputs": [],
   "source": [
    "#bucket PAY_AMT, BILL_AMT\n",
    "\n",
    "def bucket_PAYAMT_BILLAMT(df):\n",
    "    bins_pa = [1,100,1000,10000,100000,1000001] #exclude 0 and negative\n",
    "    category_pa = ['< 100','100-999','1000-9999','10000-99999','100000-1000000']\n",
    "    num = 6\n",
    "    for x in range(1, num+1):\n",
    "        df['PAY_AMT_CAT'+str(x)] = pd.cut(df['PAY_AMT'+str(x)], bins_pa, labels = category_pa)\n",
    "        df['PAY_AMT_CAT'+str(x)] = np.where(df['PAY_AMT'+str(x)] == 0, '0', df['PAY_AMT_CAT'+str(x)])\n",
    "        df['PAY_AMT_CAT'+str(x)] = np.where(df['PAY_AMT'+str(x)] <0, '< 0', df['PAY_AMT_CAT'+str(x)])\n",
    "        df['BILL_AMT_CAT'+str(x)] = pd.cut(df['BILL_AMT'+str(x)], bins_pa, labels = category_pa)\n",
    "        df['BILL_AMT_CAT'+str(x)] = np.where(df['BILL_AMT'+str(x)] == 0, '0', df['BILL_AMT_CAT'+str(x)])\n",
    "        df['BILL_AMT_CAT'+str(x)] = np.where(df['BILL_AMT'+str(x)] <0, '< 0', df['BILL_AMT_CAT'+str(x)])"
   ]
  },
  {
   "cell_type": "code",
   "execution_count": 194,
   "metadata": {},
   "outputs": [],
   "source": [
    "bucket_PAYAMT_BILLAMT(df0)"
   ]
  },
  {
   "cell_type": "code",
   "execution_count": 195,
   "metadata": {},
   "outputs": [],
   "source": [
    "#adding new metrics DEBT_OWED, PCT_CREDIT_UTILIZED, and bucket them\n",
    "\n",
    "def create_bucket_debtOwed(df, var1, var2):\n",
    "    num = 6\n",
    "    bins_bu = [-1000001,-100000,-10000,-1000,-100,-0.000000001] #exclude 0 and positive\n",
    "    category_bu = ['-(1000000-100000)','-(99999-10000)','-(9999-1000)','-(999-100)','>-100']\n",
    "    for x in range(1, num+1):\n",
    "        df['DEBT_OWED'+str(x)] = df[var1+str(x)]-df[var2+str(x)]\n",
    "        df['DEBT_OWED_CAT'+str(x)] = pd.cut(df['DEBT_OWED'+str(x)], bins_bu, labels = category_bu)\n",
    "        df['DEBT_OWED_CAT'+str(x)] = np.where(df['DEBT_OWED'+str(x)] == 0, '0', df['DEBT_OWED_CAT'+str(x)])\n",
    "        df['DEBT_OWED_CAT'+str(x)] = np.where(df['DEBT_OWED'+str(x)] >0, '> 0', df['DEBT_OWED_CAT'+str(x)])\n",
    "\n",
    "def create_bucket_creditUtilized(df, var1, var2):\n",
    "    bins_pct = [0.0000000001,0.1,0.2,0.3,0.4,0.5,1] #exclude 0, larger than 1 and negative\n",
    "    category_pct = ['< 10%','10-20%','20-30%','30-40%','40-50%','> 50%']\n",
    "    num = 6\n",
    "    for x in range(1, num+1):\n",
    "        df['PCT_CREDIT_UTILIZED'+str(x)] = df[var1+str(x)]/df[var2]\n",
    "        df['PCT_CREDIT_UTILIZED_CAT'+str(x)] = pd.cut(df['PCT_CREDIT_UTILIZED'+str(x)],bins_pct,labels = category_pct)\n",
    "        df['PCT_CREDIT_UTILIZED_CAT'+str(x)] = np.where(df['PCT_CREDIT_UTILIZED'+str(x)] == 0, '0', df['PCT_CREDIT_UTILIZED_CAT'+str(x)] )\n",
    "        df['PCT_CREDIT_UTILIZED_CAT'+str(x)] = np.where(df['PCT_CREDIT_UTILIZED'+str(x)] >1, '> 100%', df['PCT_CREDIT_UTILIZED_CAT'+str(x)] )\n",
    "        df['PCT_CREDIT_UTILIZED_CAT'+str(x)] = np.where(df['PCT_CREDIT_UTILIZED'+str(x)] <0, '< 0', df['PCT_CREDIT_UTILIZED_CAT'+str(x)] )"
   ]
  },
  {
   "cell_type": "code",
   "execution_count": 196,
   "metadata": {},
   "outputs": [],
   "source": [
    "create_bucket_debtOwed(df0, 'PAY_AMT', 'BILL_AMT')\n",
    "\n",
    "create_bucket_creditUtilized(df0, 'BILL_AMT', 'LIMIT_BAL')"
   ]
  },
  {
   "cell_type": "code",
   "execution_count": 197,
   "metadata": {},
   "outputs": [],
   "source": [
    "#formatting Y variable for logistic regression\n",
    "\n",
    "df0['default payment next month']=np.where(df0['default payment next month'] == 'no default', 0, df0['default payment next month'])\n",
    "df0['default payment next month']=np.where(df0['default payment next month'] == 'default', 1, df0['default payment next month'])"
   ]
  },
  {
   "cell_type": "code",
   "execution_count": 198,
   "metadata": {},
   "outputs": [
    {
     "data": {
      "text/plain": [
       "array(['ID', 'LIMIT_BAL', 'SEX', 'EDUCATION', 'MARRIAGE', 'AGE', 'PAY_1',\n",
       "       'PAY_2', 'PAY_3', 'PAY_4', 'PAY_5', 'PAY_6', 'BILL_AMT1',\n",
       "       'BILL_AMT2', 'BILL_AMT3', 'BILL_AMT4', 'BILL_AMT5', 'BILL_AMT6',\n",
       "       'PAY_AMT1', 'PAY_AMT2', 'PAY_AMT3', 'PAY_AMT4', 'PAY_AMT5',\n",
       "       'PAY_AMT6', 'default payment next month', 'CATEGORY',\n",
       "       'PAY_AMT_CAT1', 'BILL_AMT_CAT1', 'PAY_AMT_CAT2', 'BILL_AMT_CAT2',\n",
       "       'PAY_AMT_CAT3', 'BILL_AMT_CAT3', 'PAY_AMT_CAT4', 'BILL_AMT_CAT4',\n",
       "       'PAY_AMT_CAT5', 'BILL_AMT_CAT5', 'PAY_AMT_CAT6', 'BILL_AMT_CAT6',\n",
       "       'DEBT_OWED1', 'DEBT_OWED_CAT1', 'DEBT_OWED2', 'DEBT_OWED_CAT2',\n",
       "       'DEBT_OWED3', 'DEBT_OWED_CAT3', 'DEBT_OWED4', 'DEBT_OWED_CAT4',\n",
       "       'DEBT_OWED5', 'DEBT_OWED_CAT5', 'DEBT_OWED6', 'DEBT_OWED_CAT6',\n",
       "       'PCT_CREDIT_UTILIZED1', 'PCT_CREDIT_UTILIZED_CAT1',\n",
       "       'PCT_CREDIT_UTILIZED2', 'PCT_CREDIT_UTILIZED_CAT2',\n",
       "       'PCT_CREDIT_UTILIZED3', 'PCT_CREDIT_UTILIZED_CAT3',\n",
       "       'PCT_CREDIT_UTILIZED4', 'PCT_CREDIT_UTILIZED_CAT4',\n",
       "       'PCT_CREDIT_UTILIZED5', 'PCT_CREDIT_UTILIZED_CAT5',\n",
       "       'PCT_CREDIT_UTILIZED6', 'PCT_CREDIT_UTILIZED_CAT6'], dtype=object)"
      ]
     },
     "execution_count": 198,
     "metadata": {},
     "output_type": "execute_result"
    }
   ],
   "source": [
    "df0.columns.values"
   ]
  },
  {
   "cell_type": "code",
   "execution_count": 199,
   "metadata": {},
   "outputs": [],
   "source": [
    "#Create dummy variables for demographic fields\n",
    "\n",
    "cat_vars = ['SEX', 'CATEGORY', 'PAY_AMT_CAT1', 'BILL_AMT_CAT1', 'PAY_AMT_CAT2', 'BILL_AMT_CAT2',\n",
    "       'PAY_AMT_CAT3', 'BILL_AMT_CAT3', 'PAY_AMT_CAT4', 'BILL_AMT_CAT4',\n",
    "       'PAY_AMT_CAT5', 'BILL_AMT_CAT5', 'PAY_AMT_CAT6', 'BILL_AMT_CAT6',\n",
    "       'DEBT_OWED_CAT1', 'DEBT_OWED_CAT2','DEBT_OWED_CAT3', 'DEBT_OWED_CAT4',\n",
    "       'DEBT_OWED_CAT5', 'DEBT_OWED_CAT6','PCT_CREDIT_UTILIZED_CAT1',\n",
    "       'PCT_CREDIT_UTILIZED_CAT2','PCT_CREDIT_UTILIZED_CAT3','PCT_CREDIT_UTILIZED_CAT4',\n",
    "       'PCT_CREDIT_UTILIZED_CAT5','PCT_CREDIT_UTILIZED_CAT6']\n",
    "for var in cat_vars:\n",
    "    cat_list ='var'+'_'+var\n",
    "    cat_list = pd.get_dummies(df0[var], prefix=var)\n",
    "    df0_temp = df0.join(cat_list)\n",
    "    df0 = df0_temp"
   ]
  },
  {
   "cell_type": "code",
   "execution_count": 200,
   "metadata": {},
   "outputs": [
    {
     "data": {
      "text/plain": [
       "Index(['ID', 'LIMIT_BAL', 'SEX', 'EDUCATION', 'MARRIAGE', 'AGE', 'PAY_1',\n",
       "       'PAY_2', 'PAY_3', 'PAY_4',\n",
       "       ...\n",
       "       'PCT_CREDIT_UTILIZED_CAT5_> 50%', 'PCT_CREDIT_UTILIZED_CAT6_0',\n",
       "       'PCT_CREDIT_UTILIZED_CAT6_10-20%', 'PCT_CREDIT_UTILIZED_CAT6_20-30%',\n",
       "       'PCT_CREDIT_UTILIZED_CAT6_30-40%', 'PCT_CREDIT_UTILIZED_CAT6_40-50%',\n",
       "       'PCT_CREDIT_UTILIZED_CAT6_< 0', 'PCT_CREDIT_UTILIZED_CAT6_< 10%',\n",
       "       'PCT_CREDIT_UTILIZED_CAT6_> 100%', 'PCT_CREDIT_UTILIZED_CAT6_> 50%'],\n",
       "      dtype='object', length=244)"
      ]
     },
     "execution_count": 200,
     "metadata": {},
     "output_type": "execute_result"
    }
   ],
   "source": [
    "df0.columns"
   ]
  },
  {
   "cell_type": "code",
   "execution_count": 201,
   "metadata": {},
   "outputs": [],
   "source": [
    "cat_vars_removal = ['ID', 'LIMIT_BAL', 'SEX', 'EDUCATION', 'MARRIAGE', 'AGE', \\\n",
    "                    'CATEGORY', 'BILL_AMT1','BILL_AMT2', 'BILL_AMT3', \\\n",
    "                    'BILL_AMT4', 'BILL_AMT5', 'BILL_AMT6','PAY_AMT1', \\\n",
    "                    'PAY_AMT2', 'PAY_AMT3', 'PAY_AMT4', 'PAY_AMT5',\\\n",
    "                    'PAY_AMT6', 'PAY_AMT_CAT1','BILL_AMT_CAT1', \\\n",
    "                    'PAY_AMT_CAT2', 'BILL_AMT_CAT2','PAY_AMT_CAT3', \\\n",
    "                    'BILL_AMT_CAT3', 'PAY_AMT_CAT4', 'BILL_AMT_CAT4',\\\n",
    "                    'PAY_AMT_CAT5', 'BILL_AMT_CAT5', 'PAY_AMT_CAT6', \\\n",
    "                    'BILL_AMT_CAT6','DEBT_OWED1', 'DEBT_OWED_CAT1', \\\n",
    "                    'DEBT_OWED2', 'DEBT_OWED_CAT2','DEBT_OWED3', \\\n",
    "                    'DEBT_OWED_CAT3', 'DEBT_OWED4', 'DEBT_OWED_CAT4',\\\n",
    "                    'DEBT_OWED5', 'DEBT_OWED_CAT5', 'DEBT_OWED6', \\\n",
    "                    'DEBT_OWED_CAT6','PCT_CREDIT_UTILIZED1', \\\n",
    "                    'PCT_CREDIT_UTILIZED_CAT1','PCT_CREDIT_UTILIZED2', \\\n",
    "                    'PCT_CREDIT_UTILIZED_CAT2','PCT_CREDIT_UTILIZED3', \\\n",
    "                    'PCT_CREDIT_UTILIZED_CAT3','PCT_CREDIT_UTILIZED4', \\\n",
    "                    'PCT_CREDIT_UTILIZED_CAT4','PCT_CREDIT_UTILIZED5', \\\n",
    "                    'PCT_CREDIT_UTILIZED_CAT5','PCT_CREDIT_UTILIZED6', \\\n",
    "                    'PCT_CREDIT_UTILIZED_CAT6']\n",
    "df_vars = df0.columns.values.tolist()\n",
    "to_keep=[x for x in df_vars if x not in cat_vars_removal]"
   ]
  },
  {
   "cell_type": "code",
   "execution_count": 202,
   "metadata": {
    "scrolled": true
   },
   "outputs": [
    {
     "data": {
      "text/plain": [
       "array(['PAY_1', 'PAY_2', 'PAY_3', 'PAY_4', 'PAY_5', 'PAY_6',\n",
       "       'default payment next month', 'SEX_female', 'SEX_male',\n",
       "       'CATEGORY_21-30', 'CATEGORY_31-40', 'CATEGORY_41-50',\n",
       "       'CATEGORY_51-60', 'CATEGORY_61-70', 'CATEGORY_71-80',\n",
       "       'PAY_AMT_CAT1_0', 'PAY_AMT_CAT1_100-999', 'PAY_AMT_CAT1_1000-9999',\n",
       "       'PAY_AMT_CAT1_10000-99999', 'PAY_AMT_CAT1_100000-1000000',\n",
       "       'PAY_AMT_CAT1_< 100', 'BILL_AMT_CAT1_0', 'BILL_AMT_CAT1_100-999',\n",
       "       'BILL_AMT_CAT1_1000-9999', 'BILL_AMT_CAT1_10000-99999',\n",
       "       'BILL_AMT_CAT1_100000-1000000', 'BILL_AMT_CAT1_< 0',\n",
       "       'BILL_AMT_CAT1_< 100', 'PAY_AMT_CAT2_0', 'PAY_AMT_CAT2_100-999',\n",
       "       'PAY_AMT_CAT2_1000-9999', 'PAY_AMT_CAT2_10000-99999',\n",
       "       'PAY_AMT_CAT2_100000-1000000', 'PAY_AMT_CAT2_< 100',\n",
       "       'BILL_AMT_CAT2_0', 'BILL_AMT_CAT2_100-999',\n",
       "       'BILL_AMT_CAT2_1000-9999', 'BILL_AMT_CAT2_10000-99999',\n",
       "       'BILL_AMT_CAT2_100000-1000000', 'BILL_AMT_CAT2_< 0',\n",
       "       'BILL_AMT_CAT2_< 100', 'PAY_AMT_CAT3_0', 'PAY_AMT_CAT3_100-999',\n",
       "       'PAY_AMT_CAT3_1000-9999', 'PAY_AMT_CAT3_10000-99999',\n",
       "       'PAY_AMT_CAT3_100000-1000000', 'PAY_AMT_CAT3_< 100',\n",
       "       'BILL_AMT_CAT3_0', 'BILL_AMT_CAT3_100-999',\n",
       "       'BILL_AMT_CAT3_1000-9999', 'BILL_AMT_CAT3_10000-99999',\n",
       "       'BILL_AMT_CAT3_100000-1000000', 'BILL_AMT_CAT3_< 0',\n",
       "       'BILL_AMT_CAT3_< 100', 'PAY_AMT_CAT4_0', 'PAY_AMT_CAT4_100-999',\n",
       "       'PAY_AMT_CAT4_1000-9999', 'PAY_AMT_CAT4_10000-99999',\n",
       "       'PAY_AMT_CAT4_100000-1000000', 'PAY_AMT_CAT4_< 100',\n",
       "       'BILL_AMT_CAT4_0', 'BILL_AMT_CAT4_100-999',\n",
       "       'BILL_AMT_CAT4_1000-9999', 'BILL_AMT_CAT4_10000-99999',\n",
       "       'BILL_AMT_CAT4_100000-1000000', 'BILL_AMT_CAT4_< 0',\n",
       "       'BILL_AMT_CAT4_< 100', 'PAY_AMT_CAT5_0', 'PAY_AMT_CAT5_100-999',\n",
       "       'PAY_AMT_CAT5_1000-9999', 'PAY_AMT_CAT5_10000-99999',\n",
       "       'PAY_AMT_CAT5_100000-1000000', 'PAY_AMT_CAT5_< 100',\n",
       "       'BILL_AMT_CAT5_0', 'BILL_AMT_CAT5_100-999',\n",
       "       'BILL_AMT_CAT5_1000-9999', 'BILL_AMT_CAT5_10000-99999',\n",
       "       'BILL_AMT_CAT5_100000-1000000', 'BILL_AMT_CAT5_< 0',\n",
       "       'BILL_AMT_CAT5_< 100', 'PAY_AMT_CAT6_0', 'PAY_AMT_CAT6_100-999',\n",
       "       'PAY_AMT_CAT6_1000-9999', 'PAY_AMT_CAT6_10000-99999',\n",
       "       'PAY_AMT_CAT6_100000-1000000', 'PAY_AMT_CAT6_< 100',\n",
       "       'BILL_AMT_CAT6_0', 'BILL_AMT_CAT6_100-999',\n",
       "       'BILL_AMT_CAT6_1000-9999', 'BILL_AMT_CAT6_10000-99999',\n",
       "       'BILL_AMT_CAT6_100000-1000000', 'BILL_AMT_CAT6_< 0',\n",
       "       'BILL_AMT_CAT6_< 100', 'DEBT_OWED_CAT1_-(1000000-100000)',\n",
       "       'DEBT_OWED_CAT1_-(999-100)', 'DEBT_OWED_CAT1_-(9999-1000)',\n",
       "       'DEBT_OWED_CAT1_-(99999-10000)', 'DEBT_OWED_CAT1_0',\n",
       "       'DEBT_OWED_CAT1_> 0', 'DEBT_OWED_CAT1_>-100',\n",
       "       'DEBT_OWED_CAT2_-(1000000-100000)', 'DEBT_OWED_CAT2_-(999-100)',\n",
       "       'DEBT_OWED_CAT2_-(9999-1000)', 'DEBT_OWED_CAT2_-(99999-10000)',\n",
       "       'DEBT_OWED_CAT2_0', 'DEBT_OWED_CAT2_> 0', 'DEBT_OWED_CAT2_>-100',\n",
       "       'DEBT_OWED_CAT3_-(1000000-100000)', 'DEBT_OWED_CAT3_-(999-100)',\n",
       "       'DEBT_OWED_CAT3_-(9999-1000)', 'DEBT_OWED_CAT3_-(99999-10000)',\n",
       "       'DEBT_OWED_CAT3_0', 'DEBT_OWED_CAT3_> 0', 'DEBT_OWED_CAT3_>-100',\n",
       "       'DEBT_OWED_CAT4_-(1000000-100000)', 'DEBT_OWED_CAT4_-(999-100)',\n",
       "       'DEBT_OWED_CAT4_-(9999-1000)', 'DEBT_OWED_CAT4_-(99999-10000)',\n",
       "       'DEBT_OWED_CAT4_0', 'DEBT_OWED_CAT4_> 0', 'DEBT_OWED_CAT4_>-100',\n",
       "       'DEBT_OWED_CAT5_-(1000000-100000)', 'DEBT_OWED_CAT5_-(999-100)',\n",
       "       'DEBT_OWED_CAT5_-(9999-1000)', 'DEBT_OWED_CAT5_-(99999-10000)',\n",
       "       'DEBT_OWED_CAT5_0', 'DEBT_OWED_CAT5_> 0', 'DEBT_OWED_CAT5_>-100',\n",
       "       'DEBT_OWED_CAT6_-(1000000-100000)', 'DEBT_OWED_CAT6_-(999-100)',\n",
       "       'DEBT_OWED_CAT6_-(9999-1000)', 'DEBT_OWED_CAT6_-(99999-10000)',\n",
       "       'DEBT_OWED_CAT6_0', 'DEBT_OWED_CAT6_> 0', 'DEBT_OWED_CAT6_>-100',\n",
       "       'PCT_CREDIT_UTILIZED_CAT1_0', 'PCT_CREDIT_UTILIZED_CAT1_10-20%',\n",
       "       'PCT_CREDIT_UTILIZED_CAT1_20-30%',\n",
       "       'PCT_CREDIT_UTILIZED_CAT1_30-40%',\n",
       "       'PCT_CREDIT_UTILIZED_CAT1_40-50%', 'PCT_CREDIT_UTILIZED_CAT1_< 0',\n",
       "       'PCT_CREDIT_UTILIZED_CAT1_< 10%',\n",
       "       'PCT_CREDIT_UTILIZED_CAT1_> 100%',\n",
       "       'PCT_CREDIT_UTILIZED_CAT1_> 50%', 'PCT_CREDIT_UTILIZED_CAT2_0',\n",
       "       'PCT_CREDIT_UTILIZED_CAT2_10-20%',\n",
       "       'PCT_CREDIT_UTILIZED_CAT2_20-30%',\n",
       "       'PCT_CREDIT_UTILIZED_CAT2_30-40%',\n",
       "       'PCT_CREDIT_UTILIZED_CAT2_40-50%', 'PCT_CREDIT_UTILIZED_CAT2_< 0',\n",
       "       'PCT_CREDIT_UTILIZED_CAT2_< 10%',\n",
       "       'PCT_CREDIT_UTILIZED_CAT2_> 100%',\n",
       "       'PCT_CREDIT_UTILIZED_CAT2_> 50%', 'PCT_CREDIT_UTILIZED_CAT3_0',\n",
       "       'PCT_CREDIT_UTILIZED_CAT3_10-20%',\n",
       "       'PCT_CREDIT_UTILIZED_CAT3_20-30%',\n",
       "       'PCT_CREDIT_UTILIZED_CAT3_30-40%',\n",
       "       'PCT_CREDIT_UTILIZED_CAT3_40-50%', 'PCT_CREDIT_UTILIZED_CAT3_< 0',\n",
       "       'PCT_CREDIT_UTILIZED_CAT3_< 10%',\n",
       "       'PCT_CREDIT_UTILIZED_CAT3_> 100%',\n",
       "       'PCT_CREDIT_UTILIZED_CAT3_> 50%', 'PCT_CREDIT_UTILIZED_CAT4_0',\n",
       "       'PCT_CREDIT_UTILIZED_CAT4_10-20%',\n",
       "       'PCT_CREDIT_UTILIZED_CAT4_20-30%',\n",
       "       'PCT_CREDIT_UTILIZED_CAT4_30-40%',\n",
       "       'PCT_CREDIT_UTILIZED_CAT4_40-50%', 'PCT_CREDIT_UTILIZED_CAT4_< 0',\n",
       "       'PCT_CREDIT_UTILIZED_CAT4_< 10%',\n",
       "       'PCT_CREDIT_UTILIZED_CAT4_> 100%',\n",
       "       'PCT_CREDIT_UTILIZED_CAT4_> 50%', 'PCT_CREDIT_UTILIZED_CAT5_0',\n",
       "       'PCT_CREDIT_UTILIZED_CAT5_10-20%',\n",
       "       'PCT_CREDIT_UTILIZED_CAT5_20-30%',\n",
       "       'PCT_CREDIT_UTILIZED_CAT5_30-40%',\n",
       "       'PCT_CREDIT_UTILIZED_CAT5_40-50%', 'PCT_CREDIT_UTILIZED_CAT5_< 0',\n",
       "       'PCT_CREDIT_UTILIZED_CAT5_< 10%',\n",
       "       'PCT_CREDIT_UTILIZED_CAT5_> 100%',\n",
       "       'PCT_CREDIT_UTILIZED_CAT5_> 50%', 'PCT_CREDIT_UTILIZED_CAT6_0',\n",
       "       'PCT_CREDIT_UTILIZED_CAT6_10-20%',\n",
       "       'PCT_CREDIT_UTILIZED_CAT6_20-30%',\n",
       "       'PCT_CREDIT_UTILIZED_CAT6_30-40%',\n",
       "       'PCT_CREDIT_UTILIZED_CAT6_40-50%', 'PCT_CREDIT_UTILIZED_CAT6_< 0',\n",
       "       'PCT_CREDIT_UTILIZED_CAT6_< 10%',\n",
       "       'PCT_CREDIT_UTILIZED_CAT6_> 100%',\n",
       "       'PCT_CREDIT_UTILIZED_CAT6_> 50%'], dtype=object)"
      ]
     },
     "execution_count": 202,
     "metadata": {},
     "output_type": "execute_result"
    }
   ],
   "source": [
    "df = df0[to_keep]\n",
    "\n",
    "df.loc[:,'default payment next month'] = pd.to_numeric(df['default payment next month'])\n",
    "\n",
    "df.columns.values"
   ]
  },
  {
   "cell_type": "code",
   "execution_count": 203,
   "metadata": {},
   "outputs": [
    {
     "name": "stdout",
     "output_type": "stream",
     "text": [
      "length of oversampled data is  32608\n",
      "Number of non-default in oversampled data 16304\n",
      "Number of default 16304\n",
      "Proportion of non-default data in oversampled data is  0.5\n",
      "Proportion of default data in oversampled data is  0.5\n"
     ]
    }
   ],
   "source": [
    "#Over-sampling using SMOTE\n",
    "\n",
    "X = df.loc[:, df.columns != 'default payment next month']\n",
    "y = df.loc[:, df.columns == 'default payment next month']\n",
    "\n",
    "from imblearn.over_sampling import SMOTE\n",
    "\n",
    "os = SMOTE(random_state=0)\n",
    "X_train, X_test, y_train, y_test = train_test_split(X, y, test_size=0.3, random_state=0)\n",
    "columns = X_train.columns\n",
    "\n",
    "os_data_X,os_data_y=os.fit_sample(X_train, y_train)\n",
    "os_data_X = pd.DataFrame(data=os_data_X,columns=columns)\n",
    "os_data_y= pd.DataFrame(data=os_data_y,columns=['default payment next month'])\n",
    "\n",
    "# we can Check the numbers of our data\n",
    "print(\"length of oversampled data is \",len(os_data_X))\n",
    "print(\"Number of non-default in oversampled data\",len(os_data_y[os_data_y['default payment next month']==0]))\n",
    "print(\"Number of default\",len(os_data_y[os_data_y['default payment next month']==1]))\n",
    "print(\"Proportion of non-default data in oversampled data is \",len(os_data_y[os_data_y['default payment next month']==0])/len(os_data_X))\n",
    "print(\"Proportion of default data in oversampled data is \",len(os_data_y[os_data_y['default payment next month']==1])/len(os_data_X))"
   ]
  },
  {
   "cell_type": "code",
   "execution_count": 204,
   "metadata": {
    "scrolled": true
   },
   "outputs": [
    {
     "name": "stdout",
     "output_type": "stream",
     "text": [
      "[False False False False False False  True  True  True  True  True  True\n",
      "  True  True False False False False False False False False False False\n",
      " False False False False False False False False False False False False\n",
      " False False False False False False False False False False False False\n",
      " False False False False False False False False False False False False\n",
      " False False False False False False False False False False False False\n",
      " False False False False False False False  True  True  True  True  True\n",
      "  True  True False False False False  True False False False False False\n",
      " False False False False False False False False False False False False\n",
      " False False False False False False False False False False False False\n",
      " False False False False False False False False False False False False\n",
      " False False False  True  True  True  True  True False  True  True False\n",
      " False False False False False False False False False False False False\n",
      " False False False False False False False False False False False False\n",
      " False False False False False False False False False False False False\n",
      "  True  True  True  True False  True  True  True]\n",
      "[122 145 154 159 149 142   1   1   1   1   1   1   1   1  40  39  37  36\n",
      "  35  38   3 115 114 112 111  81 113  89  87  86  85  84  88  71 151 152\n",
      " 134 133  72  80   9   8   7   5   4   6  82 137 156 157 127  83 144  60\n",
      "  59  58  57  55  56 100 150 158 155 138  99 124  47  46  44  43  42  45\n",
      " 109 140 139 136 135  26 141   1   1   1   1   1   1   1 146 147 148 143\n",
      "   1 153  48  51  52  49  54  53  50 105 103 104 106 107 102 101 132 126\n",
      " 129 128 130 125 131  65  64  63  66  67  62  68 121 118 119 120 123 117\n",
      " 116  10  15  14  13  16  12  11 108   1   1   1   1   1   2   1   1  69\n",
      "  75  74  77  76  70  73  79  78  19  20  21  24  22  17  18  23  25  91\n",
      "  93  95  94  96  90  92  98  97  28  29  30  31  32 110  27  34  33  41\n",
      "   1   1   1   1  61   1   1   1]\n"
     ]
    }
   ],
   "source": [
    "#Recursive Feature Elimination\n",
    "\n",
    "from sklearn.feature_selection import RFE\n",
    "from sklearn.linear_model import LogisticRegression\n",
    "\n",
    "logreg = LogisticRegression(max_iter=2000)\n",
    "\n",
    "rfe = RFE(estimator=logreg, n_features_to_select=30)\n",
    "rfe = rfe.fit(os_data_X, os_data_y.values.ravel())\n",
    "\n",
    "print(rfe.support_)\n",
    "print(rfe.ranking_)"
   ]
  },
  {
   "cell_type": "code",
   "execution_count": 205,
   "metadata": {},
   "outputs": [
    {
     "data": {
      "text/html": [
       "<div>\n",
       "<style scoped>\n",
       "    .dataframe tbody tr th:only-of-type {\n",
       "        vertical-align: middle;\n",
       "    }\n",
       "\n",
       "    .dataframe tbody tr th {\n",
       "        vertical-align: top;\n",
       "    }\n",
       "\n",
       "    .dataframe thead th {\n",
       "        text-align: right;\n",
       "    }\n",
       "</style>\n",
       "<table border=\"1\" class=\"dataframe\">\n",
       "  <thead>\n",
       "    <tr style=\"text-align: right;\">\n",
       "      <th></th>\n",
       "      <th>0</th>\n",
       "      <th>S</th>\n",
       "      <th>R</th>\n",
       "    </tr>\n",
       "  </thead>\n",
       "  <tbody>\n",
       "    <tr>\n",
       "      <td>6</td>\n",
       "      <td>SEX_female</td>\n",
       "      <td>True</td>\n",
       "      <td>1</td>\n",
       "    </tr>\n",
       "    <tr>\n",
       "      <td>7</td>\n",
       "      <td>SEX_male</td>\n",
       "      <td>True</td>\n",
       "      <td>1</td>\n",
       "    </tr>\n",
       "    <tr>\n",
       "      <td>8</td>\n",
       "      <td>CATEGORY_21-30</td>\n",
       "      <td>True</td>\n",
       "      <td>1</td>\n",
       "    </tr>\n",
       "    <tr>\n",
       "      <td>9</td>\n",
       "      <td>CATEGORY_31-40</td>\n",
       "      <td>True</td>\n",
       "      <td>1</td>\n",
       "    </tr>\n",
       "    <tr>\n",
       "      <td>10</td>\n",
       "      <td>CATEGORY_41-50</td>\n",
       "      <td>True</td>\n",
       "      <td>1</td>\n",
       "    </tr>\n",
       "    <tr>\n",
       "      <td>11</td>\n",
       "      <td>CATEGORY_51-60</td>\n",
       "      <td>True</td>\n",
       "      <td>1</td>\n",
       "    </tr>\n",
       "    <tr>\n",
       "      <td>12</td>\n",
       "      <td>CATEGORY_61-70</td>\n",
       "      <td>True</td>\n",
       "      <td>1</td>\n",
       "    </tr>\n",
       "    <tr>\n",
       "      <td>13</td>\n",
       "      <td>CATEGORY_71-80</td>\n",
       "      <td>True</td>\n",
       "      <td>1</td>\n",
       "    </tr>\n",
       "    <tr>\n",
       "      <td>79</td>\n",
       "      <td>PAY_AMT_CAT6_0</td>\n",
       "      <td>True</td>\n",
       "      <td>1</td>\n",
       "    </tr>\n",
       "    <tr>\n",
       "      <td>80</td>\n",
       "      <td>PAY_AMT_CAT6_100-999</td>\n",
       "      <td>True</td>\n",
       "      <td>1</td>\n",
       "    </tr>\n",
       "    <tr>\n",
       "      <td>81</td>\n",
       "      <td>PAY_AMT_CAT6_1000-9999</td>\n",
       "      <td>True</td>\n",
       "      <td>1</td>\n",
       "    </tr>\n",
       "    <tr>\n",
       "      <td>82</td>\n",
       "      <td>PAY_AMT_CAT6_10000-99999</td>\n",
       "      <td>True</td>\n",
       "      <td>1</td>\n",
       "    </tr>\n",
       "    <tr>\n",
       "      <td>83</td>\n",
       "      <td>PAY_AMT_CAT6_100000-1000000</td>\n",
       "      <td>True</td>\n",
       "      <td>1</td>\n",
       "    </tr>\n",
       "    <tr>\n",
       "      <td>84</td>\n",
       "      <td>PAY_AMT_CAT6_&lt; 100</td>\n",
       "      <td>True</td>\n",
       "      <td>1</td>\n",
       "    </tr>\n",
       "    <tr>\n",
       "      <td>85</td>\n",
       "      <td>BILL_AMT_CAT6_0</td>\n",
       "      <td>True</td>\n",
       "      <td>1</td>\n",
       "    </tr>\n",
       "    <tr>\n",
       "      <td>90</td>\n",
       "      <td>BILL_AMT_CAT6_&lt; 0</td>\n",
       "      <td>True</td>\n",
       "      <td>1</td>\n",
       "    </tr>\n",
       "    <tr>\n",
       "      <td>135</td>\n",
       "      <td>PCT_CREDIT_UTILIZED_CAT1_10-20%</td>\n",
       "      <td>True</td>\n",
       "      <td>1</td>\n",
       "    </tr>\n",
       "    <tr>\n",
       "      <td>136</td>\n",
       "      <td>PCT_CREDIT_UTILIZED_CAT1_20-30%</td>\n",
       "      <td>True</td>\n",
       "      <td>1</td>\n",
       "    </tr>\n",
       "    <tr>\n",
       "      <td>137</td>\n",
       "      <td>PCT_CREDIT_UTILIZED_CAT1_30-40%</td>\n",
       "      <td>True</td>\n",
       "      <td>1</td>\n",
       "    </tr>\n",
       "    <tr>\n",
       "      <td>138</td>\n",
       "      <td>PCT_CREDIT_UTILIZED_CAT1_40-50%</td>\n",
       "      <td>True</td>\n",
       "      <td>1</td>\n",
       "    </tr>\n",
       "    <tr>\n",
       "      <td>139</td>\n",
       "      <td>PCT_CREDIT_UTILIZED_CAT1_&lt; 0</td>\n",
       "      <td>True</td>\n",
       "      <td>1</td>\n",
       "    </tr>\n",
       "    <tr>\n",
       "      <td>141</td>\n",
       "      <td>PCT_CREDIT_UTILIZED_CAT1_&gt; 100%</td>\n",
       "      <td>True</td>\n",
       "      <td>1</td>\n",
       "    </tr>\n",
       "    <tr>\n",
       "      <td>142</td>\n",
       "      <td>PCT_CREDIT_UTILIZED_CAT1_&gt; 50%</td>\n",
       "      <td>True</td>\n",
       "      <td>1</td>\n",
       "    </tr>\n",
       "    <tr>\n",
       "      <td>180</td>\n",
       "      <td>PCT_CREDIT_UTILIZED_CAT6_10-20%</td>\n",
       "      <td>True</td>\n",
       "      <td>1</td>\n",
       "    </tr>\n",
       "    <tr>\n",
       "      <td>181</td>\n",
       "      <td>PCT_CREDIT_UTILIZED_CAT6_20-30%</td>\n",
       "      <td>True</td>\n",
       "      <td>1</td>\n",
       "    </tr>\n",
       "    <tr>\n",
       "      <td>182</td>\n",
       "      <td>PCT_CREDIT_UTILIZED_CAT6_30-40%</td>\n",
       "      <td>True</td>\n",
       "      <td>1</td>\n",
       "    </tr>\n",
       "    <tr>\n",
       "      <td>183</td>\n",
       "      <td>PCT_CREDIT_UTILIZED_CAT6_40-50%</td>\n",
       "      <td>True</td>\n",
       "      <td>1</td>\n",
       "    </tr>\n",
       "    <tr>\n",
       "      <td>185</td>\n",
       "      <td>PCT_CREDIT_UTILIZED_CAT6_&lt; 10%</td>\n",
       "      <td>True</td>\n",
       "      <td>1</td>\n",
       "    </tr>\n",
       "    <tr>\n",
       "      <td>186</td>\n",
       "      <td>PCT_CREDIT_UTILIZED_CAT6_&gt; 100%</td>\n",
       "      <td>True</td>\n",
       "      <td>1</td>\n",
       "    </tr>\n",
       "    <tr>\n",
       "      <td>187</td>\n",
       "      <td>PCT_CREDIT_UTILIZED_CAT6_&gt; 50%</td>\n",
       "      <td>True</td>\n",
       "      <td>1</td>\n",
       "    </tr>\n",
       "  </tbody>\n",
       "</table>\n",
       "</div>"
      ],
      "text/plain": [
       "                                   0     S  R\n",
       "6                         SEX_female  True  1\n",
       "7                           SEX_male  True  1\n",
       "8                     CATEGORY_21-30  True  1\n",
       "9                     CATEGORY_31-40  True  1\n",
       "10                    CATEGORY_41-50  True  1\n",
       "11                    CATEGORY_51-60  True  1\n",
       "12                    CATEGORY_61-70  True  1\n",
       "13                    CATEGORY_71-80  True  1\n",
       "79                    PAY_AMT_CAT6_0  True  1\n",
       "80              PAY_AMT_CAT6_100-999  True  1\n",
       "81            PAY_AMT_CAT6_1000-9999  True  1\n",
       "82          PAY_AMT_CAT6_10000-99999  True  1\n",
       "83       PAY_AMT_CAT6_100000-1000000  True  1\n",
       "84                PAY_AMT_CAT6_< 100  True  1\n",
       "85                   BILL_AMT_CAT6_0  True  1\n",
       "90                 BILL_AMT_CAT6_< 0  True  1\n",
       "135  PCT_CREDIT_UTILIZED_CAT1_10-20%  True  1\n",
       "136  PCT_CREDIT_UTILIZED_CAT1_20-30%  True  1\n",
       "137  PCT_CREDIT_UTILIZED_CAT1_30-40%  True  1\n",
       "138  PCT_CREDIT_UTILIZED_CAT1_40-50%  True  1\n",
       "139     PCT_CREDIT_UTILIZED_CAT1_< 0  True  1\n",
       "141  PCT_CREDIT_UTILIZED_CAT1_> 100%  True  1\n",
       "142   PCT_CREDIT_UTILIZED_CAT1_> 50%  True  1\n",
       "180  PCT_CREDIT_UTILIZED_CAT6_10-20%  True  1\n",
       "181  PCT_CREDIT_UTILIZED_CAT6_20-30%  True  1\n",
       "182  PCT_CREDIT_UTILIZED_CAT6_30-40%  True  1\n",
       "183  PCT_CREDIT_UTILIZED_CAT6_40-50%  True  1\n",
       "185   PCT_CREDIT_UTILIZED_CAT6_< 10%  True  1\n",
       "186  PCT_CREDIT_UTILIZED_CAT6_> 100%  True  1\n",
       "187   PCT_CREDIT_UTILIZED_CAT6_> 50%  True  1"
      ]
     },
     "execution_count": 205,
     "metadata": {},
     "output_type": "execute_result"
    }
   ],
   "source": [
    "temp = pd.DataFrame(os_data_X.columns.values)\n",
    "temp['S'] = rfe.support_\n",
    "temp['R'] = rfe.ranking_\n",
    "\n",
    "temp[temp['R'] == 1]"
   ]
  },
  {
   "cell_type": "code",
   "execution_count": 206,
   "metadata": {},
   "outputs": [],
   "source": [
    "cols=['SEX_female','SEX_male','CATEGORY_21-30','CATEGORY_31-40','CATEGORY_41-50','CATEGORY_51-60','CATEGORY_61-70',\\\n",
    "      'CATEGORY_71-80','PAY_AMT_CAT6_0','PAY_AMT_CAT6_100-999','PAY_AMT_CAT6_1000-9999','PAY_AMT_CAT6_10000-99999',\\\n",
    "      'PAY_AMT_CAT6_100000-1000000','PAY_AMT_CAT6_< 100','BILL_AMT_CAT6_0','BILL_AMT_CAT6_< 0',\\\n",
    "      'PCT_CREDIT_UTILIZED_CAT1_10-20%','PCT_CREDIT_UTILIZED_CAT1_20-30%','PCT_CREDIT_UTILIZED_CAT1_30-40%',\\\n",
    "      'PCT_CREDIT_UTILIZED_CAT1_40-50%','PCT_CREDIT_UTILIZED_CAT1_< 0','PCT_CREDIT_UTILIZED_CAT1_> 100%',\\\n",
    "      'PCT_CREDIT_UTILIZED_CAT1_> 50%','PCT_CREDIT_UTILIZED_CAT6_10-20%','PCT_CREDIT_UTILIZED_CAT6_20-30%',\\\n",
    "      'PCT_CREDIT_UTILIZED_CAT6_30-40%','PCT_CREDIT_UTILIZED_CAT6_40-50%','PCT_CREDIT_UTILIZED_CAT6_< 10%',\\\n",
    "      'PCT_CREDIT_UTILIZED_CAT6_> 100%','PCT_CREDIT_UTILIZED_CAT6_> 50%']\n",
    "\n",
    "X=os_data_X[cols]\n",
    "y=os_data_y"
   ]
  },
  {
   "cell_type": "code",
   "execution_count": 207,
   "metadata": {},
   "outputs": [
    {
     "name": "stdout",
     "output_type": "stream",
     "text": [
      "Optimization terminated successfully.\n",
      "         Current function value: 0.631474\n",
      "         Iterations 6\n",
      "                                 Results: Logit\n",
      "================================================================================\n",
      "Model:                 Logit                       Pseudo R-squared:  0.089     \n",
      "Dependent Variable:    default payment next month  AIC:               41242.1885\n",
      "Date:                  2020-06-09 13:33            BIC:               41493.9578\n",
      "No. Observations:      32608                       Log-Likelihood:    -20591.   \n",
      "Df Model:              29                          LL-Null:           -22602.   \n",
      "Df Residuals:          32578                       LLR p-value:       0.0000    \n",
      "Converged:             1.0000                      Scale:             1.0000    \n",
      "No. Iterations:        6.0000                                                   \n",
      "--------------------------------------------------------------------------------\n",
      "                                 Coef.  Std.Err.    z     P>|z|   [0.025  0.975]\n",
      "--------------------------------------------------------------------------------\n",
      "SEX_female                       0.4032   0.0426   9.4660 0.0000  0.3197  0.4867\n",
      "SEX_male                         0.4832   0.0441  10.9482 0.0000  0.3967  0.5697\n",
      "CATEGORY_21-30                  -1.2918   0.0409 -31.5526 0.0000 -1.3720 -1.2115\n",
      "CATEGORY_31-40                  -1.3280   0.0413 -32.1840 0.0000 -1.4088 -1.2471\n",
      "CATEGORY_41-50                  -1.4028   0.0461 -30.4139 0.0000 -1.4932 -1.3124\n",
      "CATEGORY_51-60                  -1.6147   0.0647 -24.9655 0.0000 -1.7415 -1.4879\n",
      "CATEGORY_61-70                  -1.8904   0.1688 -11.1966 0.0000 -2.2213 -1.5595\n",
      "CATEGORY_71-80                  -1.6406   0.6734  -2.4365 0.0148 -2.9604 -0.3209\n",
      "PAY_AMT_CAT6_0                   0.2172   0.0486   4.4656 0.0000  0.1219  0.3125\n",
      "PAY_AMT_CAT6_100-999            -0.1102   0.0478  -2.3051 0.0212 -0.2040 -0.0165\n",
      "PAY_AMT_CAT6_1000-9999          -0.3904   0.0428  -9.1164 0.0000 -0.4743 -0.3064\n",
      "PAY_AMT_CAT6_10000-99999        -1.2452   0.0713 -17.4584 0.0000 -1.3850 -1.1054\n",
      "PAY_AMT_CAT6_100000-1000000     -1.6717   0.2455  -6.8081 0.0000 -2.1529 -1.1904\n",
      "PAY_AMT_CAT6_< 100              -0.7454   0.1697  -4.3925 0.0000 -1.0780 -0.4128\n",
      "BILL_AMT_CAT6_0                  0.6249   0.0575  10.8660 0.0000  0.5121  0.7376\n",
      "BILL_AMT_CAT6_< 0                0.3527   0.1005   3.5105 0.0004  0.1558  0.5497\n",
      "PCT_CREDIT_UTILIZED_CAT1_10-20% -0.2481   0.0604  -4.1079 0.0000 -0.3664 -0.1297\n",
      "PCT_CREDIT_UTILIZED_CAT1_20-30%  0.0318   0.0662   0.4812 0.6304 -0.0978  0.1615\n",
      "PCT_CREDIT_UTILIZED_CAT1_30-40%  0.0868   0.0686   1.2656 0.2056 -0.0476  0.2212\n",
      "PCT_CREDIT_UTILIZED_CAT1_40-50% -0.0397   0.0682  -0.5816 0.5608 -0.1734  0.0940\n",
      "PCT_CREDIT_UTILIZED_CAT1_< 0    -0.3593   0.1034  -3.4738 0.0005 -0.5620 -0.1566\n",
      "PCT_CREDIT_UTILIZED_CAT1_> 100%  0.3031   0.0562   5.3906 0.0000  0.1929  0.4133\n",
      "PCT_CREDIT_UTILIZED_CAT1_> 50%   0.3035   0.0371   8.1764 0.0000  0.2307  0.3762\n",
      "PCT_CREDIT_UTILIZED_CAT6_10-20%  0.3829   0.0668   5.7281 0.0000  0.2519  0.5139\n",
      "PCT_CREDIT_UTILIZED_CAT6_20-30%  0.2764   0.0742   3.7247 0.0002  0.1310  0.4218\n",
      "PCT_CREDIT_UTILIZED_CAT6_30-40%  0.4257   0.0652   6.5254 0.0000  0.2979  0.5536\n",
      "PCT_CREDIT_UTILIZED_CAT6_40-50%  0.6060   0.0694   8.7365 0.0000  0.4700  0.7419\n",
      "PCT_CREDIT_UTILIZED_CAT6_< 10%   0.5119   0.0480  10.6711 0.0000  0.4179  0.6059\n",
      "PCT_CREDIT_UTILIZED_CAT6_> 100%  0.7539   0.0883   8.5414 0.0000  0.5809  0.9269\n",
      "PCT_CREDIT_UTILIZED_CAT6_> 50%   1.1549   0.0494  23.4005 0.0000  1.0582  1.2517\n",
      "================================================================================\n",
      "\n"
     ]
    }
   ],
   "source": [
    "#Implement the model\n",
    "#Output: Model_Output\n",
    "\n",
    "import statsmodels.api as sm\n",
    "\n",
    "logit_model=sm.Logit(y,X)\n",
    "result=logit_model.fit()\n",
    "\n",
    "print(result.summary2())"
   ]
  },
  {
   "cell_type": "code",
   "execution_count": 208,
   "metadata": {},
   "outputs": [],
   "source": [
    "#Remove variables with p > 0.05 or close to 0.05\n",
    "\n",
    "del X['PCT_CREDIT_UTILIZED_CAT1_20-30%']\n",
    "del X['PCT_CREDIT_UTILIZED_CAT1_30-40%'] \n",
    "del X['PCT_CREDIT_UTILIZED_CAT1_40-50%']"
   ]
  },
  {
   "cell_type": "code",
   "execution_count": 209,
   "metadata": {},
   "outputs": [
    {
     "data": {
      "text/plain": [
       "LogisticRegression(max_iter=1000)"
      ]
     },
     "execution_count": 209,
     "metadata": {},
     "output_type": "execute_result"
    }
   ],
   "source": [
    "#Logistic Regression Model Fitting\n",
    "\n",
    "from sklearn import metrics\n",
    "\n",
    "y = np.ravel(y)\n",
    "\n",
    "X_train, X_test, y_train, y_test = train_test_split(X, y, test_size=0.3, random_state=0)\n",
    "logreg = LogisticRegression(max_iter=1000)\n",
    "logreg.fit(X_train, y_train)"
   ]
  },
  {
   "cell_type": "code",
   "execution_count": 210,
   "metadata": {},
   "outputs": [
    {
     "name": "stdout",
     "output_type": "stream",
     "text": [
      "Accuracy of logistic regression classifier on test set: 0.76\n"
     ]
    }
   ],
   "source": [
    "#Predicting the test set results and calculating the accuracy\n",
    "#Accuracy of logistic regression classifier on test set: 0.76\n",
    "\n",
    "y_pred = logreg.predict(X_test)\n",
    "print('Accuracy of logistic regression classifier on test set: {:.2f}'.format(logreg.score(X_test, y_test)))"
   ]
  },
  {
   "cell_type": "code",
   "execution_count": 211,
   "metadata": {},
   "outputs": [
    {
     "name": "stdout",
     "output_type": "stream",
     "text": [
      "[0.52775222 0.52621895 0.5642441  0.85556578 0.84973934 0.85219258\n",
      " 0.85127262 0.86476541 0.86134969 0.85153374]\n",
      "0.04185369358254372\n",
      "0.5804177613793888\n"
     ]
    }
   ],
   "source": [
    "#Check the quality of prediction through cross-validation\n",
    "\n",
    "from sklearn.model_selection import cross_val_score\n",
    "\n",
    "print(cross_val_score(logreg, X, y, scoring='accuracy', cv=10))\n",
    "print(cross_val_score(logreg, X, y, cv=10, scoring='r2').mean())\n",
    "print(cross_val_score(logreg, X, y, cv=10, scoring='r2').std())"
   ]
  },
  {
   "cell_type": "code",
   "execution_count": 212,
   "metadata": {},
   "outputs": [
    {
     "name": "stdout",
     "output_type": "stream",
     "text": [
      "[16.38960966]\n",
      "[[-4.88761433 -4.7358186  -4.73291719 -4.76996455 -4.77016871 -4.72300578\n",
      "  -4.75476413 -2.48993711 -3.39365878 -3.75651036 -4.05012036 -4.83120091\n",
      "  -4.59048306 -3.90834149 -3.63414811 -4.1238573  -0.43382798 -0.70729771\n",
      "  -0.3369977  -0.29296982 -3.92993769 -3.91525492 -3.76310479 -3.42927806\n",
      "  -4.13537056 -3.09152116 -2.81410935]]\n"
     ]
    }
   ],
   "source": [
    "#check the resulting hyperplane parameters\n",
    "\n",
    "print(logreg.intercept_)\n",
    "print(logreg.coef_)"
   ]
  },
  {
   "cell_type": "code",
   "execution_count": 213,
   "metadata": {},
   "outputs": [
    {
     "name": "stdout",
     "output_type": "stream",
     "text": [
      "[[4632  232]\n",
      " [2092 2827]]\n"
     ]
    },
    {
     "data": {
      "text/plain": [
       "[Text(0, 0.5, 'True label'), Text(0.5, 0, 'Predicted label')]"
      ]
     },
     "execution_count": 213,
     "metadata": {},
     "output_type": "execute_result"
    },
    {
     "data": {
      "image/png": "[encoded data removed]",
      "text/plain": [
       "<Figure size 432x288 with 2 Axes>"
      ]
     },
     "metadata": {
      "needs_background": "light"
     },
     "output_type": "display_data"
    }
   ],
   "source": [
    "#Confusion Matrix\n",
    "#The result is telling us that we have 4330 (TP) + 2822 (TN) correct predictions \n",
    "#and 2097 (FP) + 534 (FN) incorrect predictions.\n",
    "\n",
    "from sklearn.metrics import confusion_matrix\n",
    "\n",
    "confusion_matrix = confusion_matrix(y_test, y_pred)\n",
    "print(confusion_matrix)\n",
    "\n",
    "fig, ax = plt.subplots()\n",
    "im = ax.imshow(confusion_matrix, cmap=plt.cm.Blues, interpolation='nearest')\n",
    "ax.figure.colorbar(im, ax=ax)\n",
    "ax.set(ylabel='True label', xlabel='Predicted label')"
   ]
  },
  {
   "cell_type": "code",
   "execution_count": 214,
   "metadata": {},
   "outputs": [
    {
     "name": "stdout",
     "output_type": "stream",
     "text": [
      "              precision    recall  f1-score   support\n",
      "\n",
      "           0       0.69      0.95      0.80      4864\n",
      "           1       0.92      0.57      0.71      4919\n",
      "\n",
      "    accuracy                           0.76      9783\n",
      "   macro avg       0.81      0.76      0.75      9783\n",
      "weighted avg       0.81      0.76      0.75      9783\n",
      "\n"
     ]
    }
   ],
   "source": [
    "#Compute precision, recall, F-measure and support\n",
    "\n",
    "from sklearn.metrics import classification_report\n",
    "\n",
    "print(classification_report(y_test, y_pred))"
   ]
  },
  {
   "cell_type": "code",
   "execution_count": 215,
   "metadata": {
    "scrolled": true
   },
   "outputs": [
    {
     "data": {
      "image/png": "[encoded data removed]",
      "text/plain": [
       "<Figure size 432x288 with 1 Axes>"
      ]
     },
     "metadata": {
      "needs_background": "light"
     },
     "output_type": "display_data"
    }
   ],
   "source": [
    "#ROC Curve\n",
    "\n",
    "from sklearn.metrics import roc_auc_score\n",
    "from sklearn.metrics import roc_curve\n",
    "\n",
    "logit_roc_auc = roc_auc_score(y_test, logreg.predict(X_test))\n",
    "\n",
    "fpr, tpr, thresholds = roc_curve(y_test, logreg.predict_proba(X_test)[:,1])\n",
    "plt.figure()\n",
    "plt.plot(fpr, tpr, label='Logistic Regression (area = %0.2f)' % logit_roc_auc)\n",
    "plt.plot([0, 1], [0, 1],'r--')\n",
    "plt.xlim([0.0, 1.0])\n",
    "plt.ylim([0.0, 1.05])\n",
    "plt.xlabel('False Positive Rate')\n",
    "plt.ylabel('True Positive Rate')\n",
    "plt.title('Receiver operating characteristic')\n",
    "plt.legend(loc=\"lower right\")\n",
    "plt.savefig('Log_ROC')\n",
    "plt.show()"
   ]
  },
  {
   "cell_type": "code",
   "execution_count": 216,
   "metadata": {},
   "outputs": [
    {
     "data": {
      "text/plain": [
       "array(['ID', 'LIMIT_BAL', 'SEX', 'EDUCATION', 'MARRIAGE', 'AGE', 'PAY_1',\n",
       "       'PAY_2', 'PAY_3', 'PAY_4', 'PAY_5', 'PAY_6', 'BILL_AMT1',\n",
       "       'BILL_AMT2', 'BILL_AMT3', 'BILL_AMT4', 'BILL_AMT5', 'BILL_AMT6',\n",
       "       'PAY_AMT1', 'PAY_AMT2', 'PAY_AMT3', 'PAY_AMT4', 'PAY_AMT5',\n",
       "       'PAY_AMT6', 'default payment next month', 'CATEGORY',\n",
       "       'PAY_AMT_CAT1', 'BILL_AMT_CAT1', 'PAY_AMT_CAT2', 'BILL_AMT_CAT2',\n",
       "       'PAY_AMT_CAT3', 'BILL_AMT_CAT3', 'PAY_AMT_CAT4', 'BILL_AMT_CAT4',\n",
       "       'PAY_AMT_CAT5', 'BILL_AMT_CAT5', 'PAY_AMT_CAT6', 'BILL_AMT_CAT6',\n",
       "       'DEBT_OWED1', 'DEBT_OWED_CAT1', 'DEBT_OWED2', 'DEBT_OWED_CAT2',\n",
       "       'DEBT_OWED3', 'DEBT_OWED_CAT3', 'DEBT_OWED4', 'DEBT_OWED_CAT4',\n",
       "       'DEBT_OWED5', 'DEBT_OWED_CAT5', 'DEBT_OWED6', 'DEBT_OWED_CAT6',\n",
       "       'PCT_CREDIT_UTILIZED1', 'PCT_CREDIT_UTILIZED_CAT1',\n",
       "       'PCT_CREDIT_UTILIZED2', 'PCT_CREDIT_UTILIZED_CAT2',\n",
       "       'PCT_CREDIT_UTILIZED3', 'PCT_CREDIT_UTILIZED_CAT3',\n",
       "       'PCT_CREDIT_UTILIZED4', 'PCT_CREDIT_UTILIZED_CAT4',\n",
       "       'PCT_CREDIT_UTILIZED5', 'PCT_CREDIT_UTILIZED_CAT5',\n",
       "       'PCT_CREDIT_UTILIZED6', 'PCT_CREDIT_UTILIZED_CAT6', 'SEX_female',\n",
       "       'SEX_male', 'CATEGORY_21-30', 'CATEGORY_31-40', 'CATEGORY_41-50',\n",
       "       'CATEGORY_51-60', 'CATEGORY_61-70', 'CATEGORY_71-80',\n",
       "       'PAY_AMT_CAT1_0', 'PAY_AMT_CAT1_100-999', 'PAY_AMT_CAT1_1000-9999',\n",
       "       'PAY_AMT_CAT1_10000-99999', 'PAY_AMT_CAT1_100000-1000000',\n",
       "       'PAY_AMT_CAT1_< 100', 'BILL_AMT_CAT1_0', 'BILL_AMT_CAT1_100-999',\n",
       "       'BILL_AMT_CAT1_1000-9999', 'BILL_AMT_CAT1_10000-99999',\n",
       "       'BILL_AMT_CAT1_100000-1000000', 'BILL_AMT_CAT1_< 0',\n",
       "       'BILL_AMT_CAT1_< 100', 'PAY_AMT_CAT2_0', 'PAY_AMT_CAT2_100-999',\n",
       "       'PAY_AMT_CAT2_1000-9999', 'PAY_AMT_CAT2_10000-99999',\n",
       "       'PAY_AMT_CAT2_100000-1000000', 'PAY_AMT_CAT2_< 100',\n",
       "       'BILL_AMT_CAT2_0', 'BILL_AMT_CAT2_100-999',\n",
       "       'BILL_AMT_CAT2_1000-9999', 'BILL_AMT_CAT2_10000-99999',\n",
       "       'BILL_AMT_CAT2_100000-1000000', 'BILL_AMT_CAT2_< 0',\n",
       "       'BILL_AMT_CAT2_< 100', 'PAY_AMT_CAT3_0', 'PAY_AMT_CAT3_100-999',\n",
       "       'PAY_AMT_CAT3_1000-9999', 'PAY_AMT_CAT3_10000-99999',\n",
       "       'PAY_AMT_CAT3_100000-1000000', 'PAY_AMT_CAT3_< 100',\n",
       "       'BILL_AMT_CAT3_0', 'BILL_AMT_CAT3_100-999',\n",
       "       'BILL_AMT_CAT3_1000-9999', 'BILL_AMT_CAT3_10000-99999',\n",
       "       'BILL_AMT_CAT3_100000-1000000', 'BILL_AMT_CAT3_< 0',\n",
       "       'BILL_AMT_CAT3_< 100', 'PAY_AMT_CAT4_0', 'PAY_AMT_CAT4_100-999',\n",
       "       'PAY_AMT_CAT4_1000-9999', 'PAY_AMT_CAT4_10000-99999',\n",
       "       'PAY_AMT_CAT4_100000-1000000', 'PAY_AMT_CAT4_< 100',\n",
       "       'BILL_AMT_CAT4_0', 'BILL_AMT_CAT4_100-999',\n",
       "       'BILL_AMT_CAT4_1000-9999', 'BILL_AMT_CAT4_10000-99999',\n",
       "       'BILL_AMT_CAT4_100000-1000000', 'BILL_AMT_CAT4_< 0',\n",
       "       'BILL_AMT_CAT4_< 100', 'PAY_AMT_CAT5_0', 'PAY_AMT_CAT5_100-999',\n",
       "       'PAY_AMT_CAT5_1000-9999', 'PAY_AMT_CAT5_10000-99999',\n",
       "       'PAY_AMT_CAT5_100000-1000000', 'PAY_AMT_CAT5_< 100',\n",
       "       'BILL_AMT_CAT5_0', 'BILL_AMT_CAT5_100-999',\n",
       "       'BILL_AMT_CAT5_1000-9999', 'BILL_AMT_CAT5_10000-99999',\n",
       "       'BILL_AMT_CAT5_100000-1000000', 'BILL_AMT_CAT5_< 0',\n",
       "       'BILL_AMT_CAT5_< 100', 'PAY_AMT_CAT6_0', 'PAY_AMT_CAT6_100-999',\n",
       "       'PAY_AMT_CAT6_1000-9999', 'PAY_AMT_CAT6_10000-99999',\n",
       "       'PAY_AMT_CAT6_100000-1000000', 'PAY_AMT_CAT6_< 100',\n",
       "       'BILL_AMT_CAT6_0', 'BILL_AMT_CAT6_100-999',\n",
       "       'BILL_AMT_CAT6_1000-9999', 'BILL_AMT_CAT6_10000-99999',\n",
       "       'BILL_AMT_CAT6_100000-1000000', 'BILL_AMT_CAT6_< 0',\n",
       "       'BILL_AMT_CAT6_< 100', 'DEBT_OWED_CAT1_-(1000000-100000)',\n",
       "       'DEBT_OWED_CAT1_-(999-100)', 'DEBT_OWED_CAT1_-(9999-1000)',\n",
       "       'DEBT_OWED_CAT1_-(99999-10000)', 'DEBT_OWED_CAT1_0',\n",
       "       'DEBT_OWED_CAT1_> 0', 'DEBT_OWED_CAT1_>-100',\n",
       "       'DEBT_OWED_CAT2_-(1000000-100000)', 'DEBT_OWED_CAT2_-(999-100)',\n",
       "       'DEBT_OWED_CAT2_-(9999-1000)', 'DEBT_OWED_CAT2_-(99999-10000)',\n",
       "       'DEBT_OWED_CAT2_0', 'DEBT_OWED_CAT2_> 0', 'DEBT_OWED_CAT2_>-100',\n",
       "       'DEBT_OWED_CAT3_-(1000000-100000)', 'DEBT_OWED_CAT3_-(999-100)',\n",
       "       'DEBT_OWED_CAT3_-(9999-1000)', 'DEBT_OWED_CAT3_-(99999-10000)',\n",
       "       'DEBT_OWED_CAT3_0', 'DEBT_OWED_CAT3_> 0', 'DEBT_OWED_CAT3_>-100',\n",
       "       'DEBT_OWED_CAT4_-(1000000-100000)', 'DEBT_OWED_CAT4_-(999-100)',\n",
       "       'DEBT_OWED_CAT4_-(9999-1000)', 'DEBT_OWED_CAT4_-(99999-10000)',\n",
       "       'DEBT_OWED_CAT4_0', 'DEBT_OWED_CAT4_> 0', 'DEBT_OWED_CAT4_>-100',\n",
       "       'DEBT_OWED_CAT5_-(1000000-100000)', 'DEBT_OWED_CAT5_-(999-100)',\n",
       "       'DEBT_OWED_CAT5_-(9999-1000)', 'DEBT_OWED_CAT5_-(99999-10000)',\n",
       "       'DEBT_OWED_CAT5_0', 'DEBT_OWED_CAT5_> 0', 'DEBT_OWED_CAT5_>-100',\n",
       "       'DEBT_OWED_CAT6_-(1000000-100000)', 'DEBT_OWED_CAT6_-(999-100)',\n",
       "       'DEBT_OWED_CAT6_-(9999-1000)', 'DEBT_OWED_CAT6_-(99999-10000)',\n",
       "       'DEBT_OWED_CAT6_0', 'DEBT_OWED_CAT6_> 0', 'DEBT_OWED_CAT6_>-100',\n",
       "       'PCT_CREDIT_UTILIZED_CAT1_0', 'PCT_CREDIT_UTILIZED_CAT1_10-20%',\n",
       "       'PCT_CREDIT_UTILIZED_CAT1_20-30%',\n",
       "       'PCT_CREDIT_UTILIZED_CAT1_30-40%',\n",
       "       'PCT_CREDIT_UTILIZED_CAT1_40-50%', 'PCT_CREDIT_UTILIZED_CAT1_< 0',\n",
       "       'PCT_CREDIT_UTILIZED_CAT1_< 10%',\n",
       "       'PCT_CREDIT_UTILIZED_CAT1_> 100%',\n",
       "       'PCT_CREDIT_UTILIZED_CAT1_> 50%', 'PCT_CREDIT_UTILIZED_CAT2_0',\n",
       "       'PCT_CREDIT_UTILIZED_CAT2_10-20%',\n",
       "       'PCT_CREDIT_UTILIZED_CAT2_20-30%',\n",
       "       'PCT_CREDIT_UTILIZED_CAT2_30-40%',\n",
       "       'PCT_CREDIT_UTILIZED_CAT2_40-50%', 'PCT_CREDIT_UTILIZED_CAT2_< 0',\n",
       "       'PCT_CREDIT_UTILIZED_CAT2_< 10%',\n",
       "       'PCT_CREDIT_UTILIZED_CAT2_> 100%',\n",
       "       'PCT_CREDIT_UTILIZED_CAT2_> 50%', 'PCT_CREDIT_UTILIZED_CAT3_0',\n",
       "       'PCT_CREDIT_UTILIZED_CAT3_10-20%',\n",
       "       'PCT_CREDIT_UTILIZED_CAT3_20-30%',\n",
       "       'PCT_CREDIT_UTILIZED_CAT3_30-40%',\n",
       "       'PCT_CREDIT_UTILIZED_CAT3_40-50%', 'PCT_CREDIT_UTILIZED_CAT3_< 0',\n",
       "       'PCT_CREDIT_UTILIZED_CAT3_< 10%',\n",
       "       'PCT_CREDIT_UTILIZED_CAT3_> 100%',\n",
       "       'PCT_CREDIT_UTILIZED_CAT3_> 50%', 'PCT_CREDIT_UTILIZED_CAT4_0',\n",
       "       'PCT_CREDIT_UTILIZED_CAT4_10-20%',\n",
       "       'PCT_CREDIT_UTILIZED_CAT4_20-30%',\n",
       "       'PCT_CREDIT_UTILIZED_CAT4_30-40%',\n",
       "       'PCT_CREDIT_UTILIZED_CAT4_40-50%', 'PCT_CREDIT_UTILIZED_CAT4_< 0',\n",
       "       'PCT_CREDIT_UTILIZED_CAT4_< 10%',\n",
       "       'PCT_CREDIT_UTILIZED_CAT4_> 100%',\n",
       "       'PCT_CREDIT_UTILIZED_CAT4_> 50%', 'PCT_CREDIT_UTILIZED_CAT5_0',\n",
       "       'PCT_CREDIT_UTILIZED_CAT5_10-20%',\n",
       "       'PCT_CREDIT_UTILIZED_CAT5_20-30%',\n",
       "       'PCT_CREDIT_UTILIZED_CAT5_30-40%',\n",
       "       'PCT_CREDIT_UTILIZED_CAT5_40-50%', 'PCT_CREDIT_UTILIZED_CAT5_< 0',\n",
       "       'PCT_CREDIT_UTILIZED_CAT5_< 10%',\n",
       "       'PCT_CREDIT_UTILIZED_CAT5_> 100%',\n",
       "       'PCT_CREDIT_UTILIZED_CAT5_> 50%', 'PCT_CREDIT_UTILIZED_CAT6_0',\n",
       "       'PCT_CREDIT_UTILIZED_CAT6_10-20%',\n",
       "       'PCT_CREDIT_UTILIZED_CAT6_20-30%',\n",
       "       'PCT_CREDIT_UTILIZED_CAT6_30-40%',\n",
       "       'PCT_CREDIT_UTILIZED_CAT6_40-50%', 'PCT_CREDIT_UTILIZED_CAT6_< 0',\n",
       "       'PCT_CREDIT_UTILIZED_CAT6_< 10%',\n",
       "       'PCT_CREDIT_UTILIZED_CAT6_> 100%',\n",
       "       'PCT_CREDIT_UTILIZED_CAT6_> 50%', 'EDUCATION_graduate school',\n",
       "       'EDUCATION_high school', 'EDUCATION_others',\n",
       "       'EDUCATION_university', 'EDUCATION_unknown', 'MARRIAGE_married',\n",
       "       'MARRIAGE_others', 'MARRIAGE_single', 'MARRIAGE_unknown'],\n",
       "      dtype=object)"
      ]
     },
     "execution_count": 216,
     "metadata": {},
     "output_type": "execute_result"
    }
   ],
   "source": [
    "#Adding demographic columns to see if the prediction can be improved\n",
    "\n",
    "#Create dummy variables for more demographic fields\n",
    "\n",
    "cat_vars = ['EDUCATION','MARRIAGE']\n",
    "for var in cat_vars:\n",
    "    cat_list ='var'+'_'+var\n",
    "    cat_list = pd.get_dummies(df0[var], prefix=var)\n",
    "    df0_temp = df0.join(cat_list)\n",
    "    df0 = df0_temp\n",
    "\n",
    "df0.columns.values"
   ]
  },
  {
   "cell_type": "code",
   "execution_count": 217,
   "metadata": {},
   "outputs": [],
   "source": [
    "cols=['PAY_1', 'PAY_2', 'PAY_3', 'SEX_female','SEX_male', 'EDUCATION_graduate school', 'EDUCATION_high school', \\\n",
    "      'EDUCATION_others', 'EDUCATION_university', 'EDUCATION_unknown', 'MARRIAGE_married', 'MARRIAGE_single', \\\n",
    "      'CATEGORY_21-30','CATEGORY_31-40', 'CATEGORY_41-50','CATEGORY_51-60','CATEGORY_61-70',\\\n",
    "      'CATEGORY_71-80','PAY_AMT_CAT6_0','PAY_AMT_CAT6_100-999','PAY_AMT_CAT6_1000-9999','PAY_AMT_CAT6_10000-99999',\\\n",
    "      'PAY_AMT_CAT6_100000-1000000','PAY_AMT_CAT6_< 100','BILL_AMT_CAT6_0','BILL_AMT_CAT6_< 0',\\\n",
    "      'PCT_CREDIT_UTILIZED_CAT1_10-20%','PCT_CREDIT_UTILIZED_CAT1_< 0','PCT_CREDIT_UTILIZED_CAT1_> 100%',\\\n",
    "      'PCT_CREDIT_UTILIZED_CAT1_> 50%','PCT_CREDIT_UTILIZED_CAT6_10-20%','PCT_CREDIT_UTILIZED_CAT6_20-30%',\\\n",
    "      'PCT_CREDIT_UTILIZED_CAT6_30-40%','PCT_CREDIT_UTILIZED_CAT6_40-50%','PCT_CREDIT_UTILIZED_CAT6_< 10%',\\\n",
    "      'PCT_CREDIT_UTILIZED_CAT6_> 100%','PCT_CREDIT_UTILIZED_CAT6_> 50%']\n",
    "\n",
    "X=df0[cols]\n",
    "y=df0['default payment next month'].astype(int)"
   ]
  },
  {
   "cell_type": "code",
   "execution_count": 218,
   "metadata": {},
   "outputs": [
    {
     "name": "stdout",
     "output_type": "stream",
     "text": [
      "length of oversampled data is  32608\n",
      "Number of non-default in oversampled data 16304\n",
      "Number of default 16304\n",
      "Proportion of non-default data in oversampled data is  0.5\n",
      "Proportion of default data in oversampled data is  0.5\n"
     ]
    }
   ],
   "source": [
    "#Over-sampling using SMOTE\n",
    "\n",
    "from imblearn.over_sampling import SMOTE\n",
    "\n",
    "os = SMOTE(random_state=0)\n",
    "X_train, X_test, y_train, y_test = train_test_split(X, y, test_size=0.3, random_state=0)\n",
    "columns = X_train.columns\n",
    "\n",
    "os_data_X,os_data_y=os.fit_sample(X_train, y_train)\n",
    "os_data_X = pd.DataFrame(data=os_data_X,columns=columns)\n",
    "os_data_y= pd.DataFrame(data=os_data_y,columns=['default payment next month'])\n",
    "\n",
    "# we can Check the numbers of our data\n",
    "print(\"length of oversampled data is \",len(os_data_X))\n",
    "print(\"Number of non-default in oversampled data\",len(os_data_y[os_data_y['default payment next month']==0]))\n",
    "print(\"Number of default\",len(os_data_y[os_data_y['default payment next month']==1]))\n",
    "print(\"Proportion of non-default data in oversampled data is \",len(os_data_y[os_data_y['default payment next month']==0])/len(os_data_X))\n",
    "print(\"Proportion of default data in oversampled data is \",len(os_data_y[os_data_y['default payment next month']==1])/len(os_data_X))"
   ]
  },
  {
   "cell_type": "code",
   "execution_count": 219,
   "metadata": {},
   "outputs": [
    {
     "name": "stdout",
     "output_type": "stream",
     "text": [
      "Optimization terminated successfully.\n",
      "         Current function value: 0.566552\n",
      "         Iterations 7\n",
      "                                 Results: Logit\n",
      "================================================================================\n",
      "Model:                 Logit                       Pseudo R-squared:  0.183     \n",
      "Dependent Variable:    default payment next month  AIC:               37022.2593\n",
      "Date:                  2020-06-09 13:33            BIC:               37332.7749\n",
      "No. Observations:      32608                       Log-Likelihood:    -18474.   \n",
      "Df Model:              36                          LL-Null:           -22602.   \n",
      "Df Residuals:          32571                       LLR p-value:       0.0000    \n",
      "Converged:             1.0000                      Scale:             1.0000    \n",
      "No. Iterations:        7.0000                                                   \n",
      "--------------------------------------------------------------------------------\n",
      "                                 Coef.  Std.Err.    z     P>|z|   [0.025  0.975]\n",
      "--------------------------------------------------------------------------------\n",
      "PAY_1                            0.5245   0.0152  34.5968 0.0000  0.4948  0.5543\n",
      "PAY_2                            0.1651   0.0171   9.6319 0.0000  0.1315  0.1987\n",
      "PAY_3                            0.1322   0.0161   8.2376 0.0000  0.1008  0.1637\n",
      "SEX_female                       1.8709   0.0847  22.0965 0.0000  1.7050  2.0369\n",
      "SEX_male                         1.9798   0.0851  23.2712 0.0000  1.8131  2.1466\n",
      "EDUCATION_graduate school       -0.1497   0.0659  -2.2719 0.0231 -0.2789 -0.0206\n",
      "EDUCATION_high school           -0.3600   0.0698  -5.1613 0.0000 -0.4968 -0.2233\n",
      "EDUCATION_others                -2.3468   0.4748  -4.9421 0.0000 -3.2775 -1.4161\n",
      "EDUCATION_university            -0.1515   0.0645  -2.3493 0.0188 -0.2778 -0.0251\n",
      "EDUCATION_unknown               -2.1544   0.2351  -9.1624 0.0000 -2.6153 -1.6936\n",
      "MARRIAGE_married                 1.0968   0.0680  16.1266 0.0000  0.9635  1.2301\n",
      "MARRIAGE_single                  0.8607   0.0689  12.4961 0.0000  0.7257  0.9957\n",
      "CATEGORY_21-30                  -0.7075   0.0642 -11.0282 0.0000 -0.8333 -0.5818\n",
      "CATEGORY_31-40                  -0.7417   0.0629 -11.7963 0.0000 -0.8649 -0.6184\n",
      "CATEGORY_41-50                  -0.7083   0.0655 -10.8177 0.0000 -0.8366 -0.5800\n",
      "CATEGORY_51-60                  -0.8381   0.0797 -10.5143 0.0000 -0.9943 -0.6819\n",
      "CATEGORY_61-70                  -1.3865   0.1831  -7.5717 0.0000 -1.7454 -1.0276\n",
      "CATEGORY_71-80                  -0.8789   0.7020  -1.2520 0.2106 -2.2547  0.4969\n",
      "PAY_AMT_CAT6_0                  -0.3140   0.0656  -4.7881 0.0000 -0.4425 -0.1855\n",
      "PAY_AMT_CAT6_100-999            -0.3651   0.0652  -5.5988 0.0000 -0.4929 -0.2373\n",
      "PAY_AMT_CAT6_1000-9999          -0.7854   0.0621 -12.6474 0.0000 -0.9071 -0.6637\n",
      "PAY_AMT_CAT6_10000-99999        -1.5177   0.0846 -17.9420 0.0000 -1.6835 -1.3519\n",
      "PAY_AMT_CAT6_100000-1000000     -2.0019   0.2633  -7.6017 0.0000 -2.5180 -1.4857\n",
      "PAY_AMT_CAT6_< 100              -1.2056   0.1777  -6.7846 0.0000 -1.5539 -0.8573\n",
      "BILL_AMT_CAT6_0                 -1.0757   0.0696 -15.4589 0.0000 -1.2120 -0.9393\n",
      "BILL_AMT_CAT6_< 0               -1.6025   0.1190 -13.4647 0.0000 -1.8358 -1.3693\n",
      "PCT_CREDIT_UTILIZED_CAT1_10-20% -0.9536   0.0658 -14.4818 0.0000 -1.0826 -0.8245\n",
      "PCT_CREDIT_UTILIZED_CAT1_< 0    -0.7725   0.1187  -6.5058 0.0000 -1.0053 -0.5398\n",
      "PCT_CREDIT_UTILIZED_CAT1_> 100% -0.5759   0.0591  -9.7527 0.0000 -0.6917 -0.4602\n",
      "PCT_CREDIT_UTILIZED_CAT1_> 50%  -0.5246   0.0369 -14.2203 0.0000 -0.5969 -0.4523\n",
      "PCT_CREDIT_UTILIZED_CAT6_10-20% -1.9041   0.0790 -24.0890 0.0000 -2.0590 -1.7492\n",
      "PCT_CREDIT_UTILIZED_CAT6_20-30% -2.0697   0.0837 -24.7137 0.0000 -2.2339 -1.9056\n",
      "PCT_CREDIT_UTILIZED_CAT6_30-40% -1.8199   0.0742 -24.5212 0.0000 -1.9654 -1.6745\n",
      "PCT_CREDIT_UTILIZED_CAT6_40-50% -1.5992   0.0780 -20.5114 0.0000 -1.7520 -1.4464\n",
      "PCT_CREDIT_UTILIZED_CAT6_< 10%  -1.3379   0.0615 -21.7677 0.0000 -1.4583 -1.2174\n",
      "PCT_CREDIT_UTILIZED_CAT6_> 100% -1.4441   0.1004 -14.3776 0.0000 -1.6409 -1.2472\n",
      "PCT_CREDIT_UTILIZED_CAT6_> 50%  -0.9725   0.0626 -15.5243 0.0000 -1.0953 -0.8497\n",
      "================================================================================\n",
      "\n"
     ]
    }
   ],
   "source": [
    "#Run LR model\n",
    "\n",
    "logit_model=sm.Logit(os_data_y,os_data_X)\n",
    "result=logit_model.fit()\n",
    "\n",
    "print(result.summary2())"
   ]
  },
  {
   "cell_type": "code",
   "execution_count": 220,
   "metadata": {},
   "outputs": [],
   "source": [
    "#Remove variable with p > 0.05\n",
    "\n",
    "del os_data_X['CATEGORY_71-80']"
   ]
  },
  {
   "cell_type": "code",
   "execution_count": 221,
   "metadata": {},
   "outputs": [
    {
     "data": {
      "text/plain": [
       "LogisticRegression(C=21.54434690031882, max_iter=1000)"
      ]
     },
     "execution_count": 221,
     "metadata": {},
     "output_type": "execute_result"
    }
   ],
   "source": [
    "#Logistic Regression Model Fitting, adjust C for hyperparameter tuning (regularization, default 1.0 to 0.2)\n",
    "\n",
    "from sklearn import metrics\n",
    "\n",
    "os_data_y = np.ravel(os_data_y)\n",
    "\n",
    "#X_train, X_test, y_train, y_test = train_test_split(os_data_X, os_data_y, test_size=0.3, random_state=0)\n",
    "logreg = LogisticRegression(max_iter=1000)\n",
    "\n",
    "#CV_logreg = GridSearchCV(logreg, param_grid = {\"C\": np.logspace(-4, 4, 10)}, scoring = \"f1_macro\")\n",
    "#CV_logreg.fit(X_train, y_train)\n",
    "#print(CV_logreg.best_params_) #{'C': 21.54434690031882}\n",
    "\n",
    "X_train, X_test, y_train, y_test = train_test_split(os_data_X, os_data_y, test_size=0.3, random_state=0)\n",
    "logreg = LogisticRegression(max_iter=1000, C=21.54434690031882)\n",
    "logreg.fit(X_train, y_train)"
   ]
  },
  {
   "cell_type": "code",
   "execution_count": 222,
   "metadata": {
    "scrolled": true
   },
   "outputs": [
    {
     "name": "stdout",
     "output_type": "stream",
     "text": [
      "Accuracy of logistic regression classifier on test set: 0.79\n"
     ]
    }
   ],
   "source": [
    "#Predicting the test set results and calculating the accuracy\n",
    "#Accuracy of logistic regression classifier on test set: 0.79 (no change with different C)\n",
    "\n",
    "y_pred = logreg.predict(X_test)\n",
    "print('Accuracy of logistic regression classifier on test set: {:.2f}'.format(logreg.score(X_test, y_test)))"
   ]
  },
  {
   "cell_type": "code",
   "execution_count": 223,
   "metadata": {},
   "outputs": [
    {
     "name": "stdout",
     "output_type": "stream",
     "text": [
      "[[4223  641]\n",
      " [1455 3464]]\n"
     ]
    },
    {
     "data": {
      "text/plain": [
       "[Text(0, 0.5, 'True label'), Text(0.5, 0, 'Predicted label')]"
      ]
     },
     "execution_count": 223,
     "metadata": {},
     "output_type": "execute_result"
    },
    {
     "data": {
      "image/png": "[encoded data removed]",
      "text/plain": [
       "<Figure size 432x288 with 2 Axes>"
      ]
     },
     "metadata": {
      "needs_background": "light"
     },
     "output_type": "display_data"
    }
   ],
   "source": [
    "#Confusion Matrix: larger C\n",
    "#The result is telling us that we have 4163->4223 (TP) + 3522->3464 (TN) correct predictions \n",
    "#and 1397->1455 (FP) + 701->641 (FN) incorrect predictions.\n",
    "\n",
    "from sklearn.metrics import confusion_matrix\n",
    "\n",
    "confusion_matrix = confusion_matrix(y_test, y_pred)\n",
    "print(confusion_matrix)\n",
    "\n",
    "fig, ax = plt.subplots()\n",
    "im = ax.imshow(confusion_matrix, cmap=plt.cm.Blues, interpolation='nearest')\n",
    "ax.figure.colorbar(im, ax=ax)\n",
    "ax.set(ylabel='True label', xlabel='Predicted label')"
   ]
  },
  {
   "cell_type": "code",
   "execution_count": 224,
   "metadata": {},
   "outputs": [
    {
     "name": "stdout",
     "output_type": "stream",
     "text": [
      "              precision    recall  f1-score   support\n",
      "\n",
      "           0       0.74      0.87      0.80      4864\n",
      "           1       0.84      0.70      0.77      4919\n",
      "\n",
      "    accuracy                           0.79      9783\n",
      "   macro avg       0.79      0.79      0.78      9783\n",
      "weighted avg       0.79      0.79      0.78      9783\n",
      "\n"
     ]
    }
   ],
   "source": [
    "#Compute precision, recall, F-measure and support\n",
    "\n",
    "from sklearn.metrics import classification_report\n",
    "\n",
    "print(classification_report(y_test, y_pred))"
   ]
  },
  {
   "cell_type": "code",
   "execution_count": 225,
   "metadata": {
    "scrolled": true
   },
   "outputs": [
    {
     "data": {
      "image/png": "[encoded data removed]",
      "text/plain": [
       "<Figure size 432x288 with 1 Axes>"
      ]
     },
     "metadata": {
      "needs_background": "light"
     },
     "output_type": "display_data"
    }
   ],
   "source": [
    "#ROC Curve\n",
    "\n",
    "from sklearn.metrics import roc_auc_score\n",
    "from sklearn.metrics import roc_curve\n",
    "\n",
    "logit_roc_auc = roc_auc_score(y_test, logreg.predict(X_test))\n",
    "\n",
    "fpr, tpr, thresholds = roc_curve(y_test, logreg.predict_proba(X_test)[:,1])\n",
    "plt.figure()\n",
    "plt.plot(fpr, tpr, label='Logistic Regression (area = %0.2f)' % logit_roc_auc)\n",
    "plt.plot([0, 1], [0, 1],'r--')\n",
    "plt.xlim([0.0, 1.0])\n",
    "plt.ylim([0.0, 1.05])\n",
    "plt.xlabel('False Positive Rate')\n",
    "plt.ylabel('True Positive Rate')\n",
    "plt.title('Receiver operating characteristic')\n",
    "plt.legend(loc=\"lower right\")\n",
    "plt.savefig('Log_ROC')\n",
    "plt.show()"
   ]
  },
  {
   "cell_type": "code",
   "execution_count": 226,
   "metadata": {
    "scrolled": true
   },
   "outputs": [
    {
     "name": "stderr",
     "output_type": "stream",
     "text": [
      "C:\\Users\\v-wumei\\AppData\\Local\\Continuum\\anaconda3\\lib\\site-packages\\pandas\\core\\indexing.py:376: SettingWithCopyWarning: \n",
      "A value is trying to be set on a copy of a slice from a DataFrame.\n",
      "Try using .loc[row_indexer,col_indexer] = value instead\n",
      "\n",
      "See the caveats in the documentation: http://pandas.pydata.org/pandas-docs/stable/user_guide/indexing.html#returning-a-view-versus-a-copy\n",
      "  self.obj[key] = _infer_fill_value(value)\n",
      "C:\\Users\\v-wumei\\AppData\\Local\\Continuum\\anaconda3\\lib\\site-packages\\pandas\\core\\indexing.py:494: SettingWithCopyWarning: \n",
      "A value is trying to be set on a copy of a slice from a DataFrame.\n",
      "Try using .loc[row_indexer,col_indexer] = value instead\n",
      "\n",
      "See the caveats in the documentation: http://pandas.pydata.org/pandas-docs/stable/user_guide/indexing.html#returning-a-view-versus-a-copy\n",
      "  self.obj[item] = s\n"
     ]
    }
   ],
   "source": [
    "X_test_pred0 = X_test\n",
    "\n",
    "X_test_pred0.loc[:, 'pred'] = logreg.predict(X_test)\n",
    "X_test_pred0.loc[:, 'y'] = y_test"
   ]
  },
  {
   "cell_type": "code",
   "execution_count": 227,
   "metadata": {
    "scrolled": true
   },
   "outputs": [
    {
     "name": "stderr",
     "output_type": "stream",
     "text": [
      "C:\\Users\\v-wumei\\AppData\\Local\\Continuum\\anaconda3\\lib\\site-packages\\ipykernel_launcher.py:3: SettingWithCopyWarning: \n",
      "A value is trying to be set on a copy of a slice from a DataFrame.\n",
      "Try using .loc[row_indexer,col_indexer] = value instead\n",
      "\n",
      "See the caveats in the documentation: http://pandas.pydata.org/pandas-docs/stable/user_guide/indexing.html#returning-a-view-versus-a-copy\n",
      "  This is separate from the ipykernel package so we can avoid doing imports until\n",
      "C:\\Users\\v-wumei\\AppData\\Local\\Continuum\\anaconda3\\lib\\site-packages\\ipykernel_launcher.py:4: SettingWithCopyWarning: \n",
      "A value is trying to be set on a copy of a slice from a DataFrame.\n",
      "Try using .loc[row_indexer,col_indexer] = value instead\n",
      "\n",
      "See the caveats in the documentation: http://pandas.pydata.org/pandas-docs/stable/user_guide/indexing.html#returning-a-view-versus-a-copy\n",
      "  after removing the cwd from sys.path.\n",
      "C:\\Users\\v-wumei\\AppData\\Local\\Continuum\\anaconda3\\lib\\site-packages\\ipykernel_launcher.py:5: SettingWithCopyWarning: \n",
      "A value is trying to be set on a copy of a slice from a DataFrame.\n",
      "Try using .loc[row_indexer,col_indexer] = value instead\n",
      "\n",
      "See the caveats in the documentation: http://pandas.pydata.org/pandas-docs/stable/user_guide/indexing.html#returning-a-view-versus-a-copy\n",
      "  \"\"\"\n"
     ]
    }
   ],
   "source": [
    "X_test_pred0.loc[:,'status'] = 'FN'\n",
    "\n",
    "X_test_pred0['status'] = np.where((X_test_pred0['y'] == 0) & (X_test_pred0['pred'] == 1), 'FP', X_test_pred0['status'])\n",
    "X_test_pred0['status'] = np.where((X_test_pred0['y'] == 0) & (X_test_pred0['pred'] == 0), 'TN', X_test_pred0['status'])\n",
    "X_test_pred0['status'] = np.where((X_test_pred0['y'] == 1) & (X_test_pred0['pred'] == 1), 'TP', X_test_pred0['status'])"
   ]
  },
  {
   "cell_type": "code",
   "execution_count": 228,
   "metadata": {},
   "outputs": [],
   "source": [
    "#save test data along with prediction to csv\n",
    "\n",
    "X_test_pred0.to_csv('TW_CC_RegPred.csv', index = False, header=True)"
   ]
  },
  {
   "cell_type": "code",
   "execution_count": 386,
   "metadata": {},
   "outputs": [],
   "source": [
    "#draw series of histograms based on features and classifications\n",
    "\n",
    "plt.rcParams.update({'font.size': 10})\n",
    "from matplotlib.patches import Rectangle\n",
    "def draw_hist(df):\n",
    "    plt.clf()\n",
    "    \n",
    "    not_indicator = ['pred', 'y', 'status']\n",
    "    \n",
    "    features= [c for c in df.columns if c not in not_indicator]\n",
    "    \n",
    "    fig, ax = plt.subplots(6,2, figsize =(15, 15), dpi = 100)\n",
    "    i =  0\n",
    "    for row in ax: \n",
    "        for col in row: \n",
    "            feature_col = features[i]\n",
    "            if len(df[feature_col].unique())> 2:\n",
    "                statuses = list(df['status'].unique())\n",
    "                \n",
    "                for s in statuses:\n",
    "                    (col.hist(df[df['status']== s][feature_col],\n",
    "                              alpha = 0.5, \n",
    "                              label = s))\n",
    "                    col.set_title('{} histogram'.format(feature_col))\n",
    "                col.legend()\n",
    "            else:\n",
    "                for s in statuses:\n",
    "                    s_df = df[df['status'] == s]\n",
    "                    counts = s_df[feature_col].value_counts().reset_index()\n",
    "\n",
    "                    counts.columns = ['indicator', feature_col]\n",
    "                    \n",
    "                    (col.bar(x = counts['indicator'],\n",
    "                             height = counts[feature_col],alpha = 0.5,\n",
    "                             label = s))\n",
    "                    \n",
    "                col.set_title('{} bar chart'.format(feature_col))\n",
    "                col.legend()\n",
    "\n",
    "            plt.subplots_adjust(hspace = 0.5)\n",
    "\n",
    "            i +=1 \n",
    "    return fig"
   ]
  },
  {
   "cell_type": "code",
   "execution_count": 387,
   "metadata": {},
   "outputs": [
    {
     "data": {
      "image/png": "[encoded data removed]",
      "text/plain": [
       "<Figure size 1500x1500 with 12 Axes>"
      ]
     },
     "execution_count": 387,
     "metadata": {},
     "output_type": "execute_result"
    },
    {
     "data": {
      "text/plain": [
       "<Figure size 432x288 with 0 Axes>"
      ]
     },
     "metadata": {},
     "output_type": "display_data"
    },
    {
     "data": {
      "image/png": "[encoded data removed]",
      "text/plain": [
       "<Figure size 1500x1500 with 12 Axes>"
      ]
     },
     "metadata": {
      "needs_background": "light"
     },
     "output_type": "display_data"
    }
   ],
   "source": [
    "draw_hist(X_test_pred0)"
   ]
  },
  {
   "cell_type": "code",
   "execution_count": null,
   "metadata": {},
   "outputs": [],
   "source": []
  }
 ],
 "metadata": {
  "kernelspec": {
   "display_name": "Python 3",
   "language": "python",
   "name": "python3"
  },
  "language_info": {
   "codemirror_mode": {
    "name": "ipython",
    "version": 3
   },
   "file_extension": ".py",
   "mimetype": "text/x-python",
   "name": "python",
   "nbconvert_exporter": "python",
   "pygments_lexer": "ipython3",
   "version": "3.7.4"
  }
 },
 "nbformat": 4,
 "nbformat_minor": 2
}
